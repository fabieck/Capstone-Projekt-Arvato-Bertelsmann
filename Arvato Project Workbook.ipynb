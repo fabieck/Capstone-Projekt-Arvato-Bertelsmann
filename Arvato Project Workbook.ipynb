{
 "cells": [
  {
   "cell_type": "markdown",
   "metadata": {},
   "source": [
    "# Capstone Project: Create a Customer Segmentation Report for Arvato Financial Services\n",
    "\n",
    "In this project, you will analyze demographics data for customers of a mail-order sales company in Germany, comparing it against demographics information for the general population. You'll use unsupervised learning techniques to perform customer segmentation, identifying the parts of the population that best describe the core customer base of the company. Then, you'll apply what you've learned on a third dataset with demographics information for targets of a marketing campaign for the company, and use a model to predict which individuals are most likely to convert into becoming customers for the company. The data that you will use has been provided by our partners at Bertelsmann Arvato Analytics, and represents a real-life data science task.\n",
    "\n",
    "If you completed the first term of this program, you will be familiar with the first part of this project, from the unsupervised learning project. The versions of those two datasets used in this project will include many more features and has not been pre-cleaned. You are also free to choose whatever approach you'd like to analyzing the data rather than follow pre-determined steps. In your work on this project, make sure that you carefully document your steps and decisions, since your main deliverable for this project will be a blog post reporting your findings."
   ]
  },
  {
   "cell_type": "code",
   "execution_count": 1,
   "metadata": {},
   "outputs": [],
   "source": [
    "# import libraries here; add more as necessary\n",
    "import numpy as np\n",
    "import pandas as pd\n",
    "import matplotlib.pyplot as plt\n",
    "import seaborn as sns\n",
    "import pickle\n",
    "from os import listdir\n",
    "from os.path import isfile, join\n",
    "from sklearn.decomposition import PCA\n",
    "from sklearn.impute import SimpleImputer\n",
    "from sklearn.preprocessing import StandardScaler\n",
    "from sklearn.cluster import KMeans\n",
    "\n",
    "from sklearn.model_selection import train_test_split\n",
    "from sklearn.metrics import roc_auc_score\n",
    "from sklearn.model_selection import GridSearchCV\n",
    "import lightgbm as lgb\n",
    "from sklearn.pipeline import Pipeline\n",
    "from sklearn.ensemble import RandomForestClassifier, GradientBoostingRegressor\n",
    "from sklearn.linear_model import LogisticRegression\n",
    "# magic word for producing visualizations in notebook\n",
    "%matplotlib inline"
   ]
  },
  {
   "cell_type": "markdown",
   "metadata": {},
   "source": [
    "## Part 0: Get to Know the Data\n",
    "\n",
    "There are four data files associated with this project:\n",
    "\n",
    "- `Udacity_AZDIAS_052018.csv`: Demographics data for the general population of Germany; 891 211 persons (rows) x 366 features (columns).\n",
    "- `Udacity_CUSTOMERS_052018.csv`: Demographics data for customers of a mail-order company; 191 652 persons (rows) x 369 features (columns).\n",
    "- `Udacity_MAILOUT_052018_TRAIN.csv`: Demographics data for individuals who were targets of a marketing campaign; 42 982 persons (rows) x 367 (columns).\n",
    "- `Udacity_MAILOUT_052018_TEST.csv`: Demographics data for individuals who were targets of a marketing campaign; 42 833 persons (rows) x 366 (columns).\n",
    "\n",
    "Each row of the demographics files represents a single person, but also includes information outside of individuals, including information about their household, building, and neighborhood. Use the information from the first two files to figure out how customers (\"CUSTOMERS\") are similar to or differ from the general population at large (\"AZDIAS\"), then use your analysis to make predictions on the other two files (\"MAILOUT\"), predicting which recipients are most likely to become a customer for the mail-order company.\n",
    "\n",
    "The \"CUSTOMERS\" file contains three extra columns ('CUSTOMER_GROUP', 'ONLINE_PURCHASE', and 'PRODUCT_GROUP'), which provide broad information about the customers depicted in the file. The original \"MAILOUT\" file included one additional column, \"RESPONSE\", which indicated whether or not each recipient became a customer of the company. For the \"TRAIN\" subset, this column has been retained, but in the \"TEST\" subset it has been removed; it is against that withheld column that your final predictions will be assessed in the Kaggle competition.\n",
    "\n",
    "Otherwise, all of the remaining columns are the same between the three data files. For more information about the columns depicted in the files, you can refer to two Excel spreadsheets provided in the workspace. [One of them](./DIAS Information Levels - Attributes 2017.xlsx) is a top-level list of attributes and descriptions, organized by informational category. [The other](./DIAS Attributes - Values 2017.xlsx) is a detailed mapping of data values for each feature in alphabetical order.\n",
    "\n",
    "In the below cell, we've provided some initial code to load in the first two datasets. Note for all of the `.csv` data files in this project that they're semicolon (`;`) delimited, so an additional argument in the [`read_csv()`](https://pandas.pydata.org/pandas-docs/stable/generated/pandas.read_csv.html) call has been included to read in the data properly. Also, considering the size of the datasets, it may take some time for them to load completely.\n",
    "\n",
    "You'll notice when the data is loaded in that a warning message will immediately pop up. Before you really start digging into the modeling and analysis, you're going to need to perform some cleaning. Take some time to browse the structure of the data and look over the informational spreadsheets to understand the data values. Make some decisions on which features to keep, which features to drop, and if any revisions need to be made on data formats. It'll be a good idea to create a function with pre-processing steps, since you'll need to clean all of the datasets before you work with them."
   ]
  },
  {
   "cell_type": "markdown",
   "metadata": {},
   "source": [
    "uncomment following if the data are in the original folder"
   ]
  },
  {
   "cell_type": "code",
   "execution_count": 2,
   "metadata": {},
   "outputs": [],
   "source": [
    "# load in the data \n",
    "#uncomment if the data are in the original folder\n",
    "#azdias = pd.read_csv('../../data/Term2/capstone/arvato_data/Udacity_AZDIAS_052018.csv', sep=';')\n",
    "#customers = pd.read_csv('../../data/Term2/capstone/arvato_data/Udacity_CUSTOMERS_052018.csv', sep=';')\n",
    "#mailout_train = pd.read_csv('../../data/Term2/capstone/arvato_data/Udacity_MAILOUT_052018_TRAIN.csv', sep=';')\n",
    "#mailout_test = pd.read_csv('../../data/Term2/capstone/arvato_data/Udacity_MAILOUT_052018_TEST.csv', sep=';')"
   ]
  },
  {
   "cell_type": "markdown",
   "metadata": {},
   "source": [
    "uncomment following if you want to save as pickle"
   ]
  },
  {
   "cell_type": "code",
   "execution_count": 3,
   "metadata": {},
   "outputs": [],
   "source": [
    "#save to pickle for faster loading\n",
    "#uncomment if you\n",
    "\n",
    "#azdias.to_pickle(\"./azdias.pkl\")\n",
    "#customers.to_pickle(\"./customers.pkl\")\n",
    "#mailout_train.to_pickle(\"./mailout_train.pkl\")\n",
    "#mailout_test.to_pickle(\"./mailout_test.pkl\")"
   ]
  },
  {
   "cell_type": "code",
   "execution_count": 6,
   "metadata": {},
   "outputs": [],
   "source": [
    "#load in pickle files with data\n",
    "azdias = pd.read_pickle(\"../data_arvato_bertelsmann/azdias.pkl\")\n",
    "customers = pd.read_pickle(\"../data_arvato_bertelsmann/customers.pkl\")\n",
    "mailout_train = pd.read_pickle(\"../data_arvato_bertelsmann/mailout_train.pkl\")\n",
    "mailout_test = pd.read_pickle(\"../data_arvato_bertelsmann/mailout_test.pkl\")\n",
    "attributes = pd.read_excel('../data_arvato_bertelsmann//DIAS Attributes - Values 2017.xlsx',header=1, engine='openpyxl')\n",
    "information = pd.read_excel('../data_arvato_bertelsmann//DIAS Information Levels - Attributes 2017.xlsx',header=1, engine='openpyxl')"
   ]
  },
  {
   "cell_type": "code",
   "execution_count": 3,
   "metadata": {},
   "outputs": [
    {
     "data": {
      "text/html": [
       "<div>\n",
       "<style scoped>\n",
       "    .dataframe tbody tr th:only-of-type {\n",
       "        vertical-align: middle;\n",
       "    }\n",
       "\n",
       "    .dataframe tbody tr th {\n",
       "        vertical-align: top;\n",
       "    }\n",
       "\n",
       "    .dataframe thead th {\n",
       "        text-align: right;\n",
       "    }\n",
       "</style>\n",
       "<table border=\"1\" class=\"dataframe\">\n",
       "  <thead>\n",
       "    <tr style=\"text-align: right;\">\n",
       "      <th></th>\n",
       "      <th>Unnamed: 0</th>\n",
       "      <th>Attribute</th>\n",
       "      <th>Description</th>\n",
       "      <th>Value</th>\n",
       "      <th>Meaning</th>\n",
       "    </tr>\n",
       "  </thead>\n",
       "  <tbody>\n",
       "    <tr>\n",
       "      <th>0</th>\n",
       "      <td>NaN</td>\n",
       "      <td>AGER_TYP</td>\n",
       "      <td>best-ager typology</td>\n",
       "      <td>-1</td>\n",
       "      <td>unknown</td>\n",
       "    </tr>\n",
       "    <tr>\n",
       "      <th>1</th>\n",
       "      <td>NaN</td>\n",
       "      <td>NaN</td>\n",
       "      <td>NaN</td>\n",
       "      <td>0</td>\n",
       "      <td>no classification possible</td>\n",
       "    </tr>\n",
       "    <tr>\n",
       "      <th>2</th>\n",
       "      <td>NaN</td>\n",
       "      <td>NaN</td>\n",
       "      <td>NaN</td>\n",
       "      <td>1</td>\n",
       "      <td>passive elderly</td>\n",
       "    </tr>\n",
       "    <tr>\n",
       "      <th>3</th>\n",
       "      <td>NaN</td>\n",
       "      <td>NaN</td>\n",
       "      <td>NaN</td>\n",
       "      <td>2</td>\n",
       "      <td>cultural elderly</td>\n",
       "    </tr>\n",
       "    <tr>\n",
       "      <th>4</th>\n",
       "      <td>NaN</td>\n",
       "      <td>NaN</td>\n",
       "      <td>NaN</td>\n",
       "      <td>3</td>\n",
       "      <td>experience-driven elderly</td>\n",
       "    </tr>\n",
       "  </tbody>\n",
       "</table>\n",
       "</div>"
      ],
      "text/plain": [
       "   Unnamed: 0 Attribute         Description Value                     Meaning\n",
       "0         NaN  AGER_TYP  best-ager typology    -1                     unknown\n",
       "1         NaN       NaN                 NaN     0  no classification possible\n",
       "2         NaN       NaN                 NaN     1             passive elderly\n",
       "3         NaN       NaN                 NaN     2            cultural elderly\n",
       "4         NaN       NaN                 NaN     3   experience-driven elderly"
      ]
     },
     "execution_count": 3,
     "metadata": {},
     "output_type": "execute_result"
    }
   ],
   "source": [
    "attributes.head()"
   ]
  },
  {
   "cell_type": "code",
   "execution_count": 4,
   "metadata": {},
   "outputs": [
    {
     "data": {
      "text/plain": [
       "(313, 5)"
      ]
     },
     "execution_count": 4,
     "metadata": {},
     "output_type": "execute_result"
    }
   ],
   "source": [
    "information.shape"
   ]
  },
  {
   "cell_type": "code",
   "execution_count": 5,
   "metadata": {},
   "outputs": [
    {
     "name": "stdout",
     "output_type": "stream",
     "text": [
      "(891221, 366)\n"
     ]
    },
    {
     "data": {
      "text/html": [
       "<div>\n",
       "<style scoped>\n",
       "    .dataframe tbody tr th:only-of-type {\n",
       "        vertical-align: middle;\n",
       "    }\n",
       "\n",
       "    .dataframe tbody tr th {\n",
       "        vertical-align: top;\n",
       "    }\n",
       "\n",
       "    .dataframe thead th {\n",
       "        text-align: right;\n",
       "    }\n",
       "</style>\n",
       "<table border=\"1\" class=\"dataframe\">\n",
       "  <thead>\n",
       "    <tr style=\"text-align: right;\">\n",
       "      <th></th>\n",
       "      <th>LNR</th>\n",
       "      <th>AGER_TYP</th>\n",
       "      <th>AKT_DAT_KL</th>\n",
       "      <th>ALTER_HH</th>\n",
       "      <th>ALTER_KIND1</th>\n",
       "      <th>ALTER_KIND2</th>\n",
       "      <th>ALTER_KIND3</th>\n",
       "      <th>ALTER_KIND4</th>\n",
       "      <th>ALTERSKATEGORIE_FEIN</th>\n",
       "      <th>ANZ_HAUSHALTE_AKTIV</th>\n",
       "      <th>...</th>\n",
       "      <th>VHN</th>\n",
       "      <th>VK_DHT4A</th>\n",
       "      <th>VK_DISTANZ</th>\n",
       "      <th>VK_ZG11</th>\n",
       "      <th>W_KEIT_KIND_HH</th>\n",
       "      <th>WOHNDAUER_2008</th>\n",
       "      <th>WOHNLAGE</th>\n",
       "      <th>ZABEOTYP</th>\n",
       "      <th>ANREDE_KZ</th>\n",
       "      <th>ALTERSKATEGORIE_GROB</th>\n",
       "    </tr>\n",
       "  </thead>\n",
       "  <tbody>\n",
       "    <tr>\n",
       "      <th>0</th>\n",
       "      <td>910215</td>\n",
       "      <td>-1</td>\n",
       "      <td>NaN</td>\n",
       "      <td>NaN</td>\n",
       "      <td>NaN</td>\n",
       "      <td>NaN</td>\n",
       "      <td>NaN</td>\n",
       "      <td>NaN</td>\n",
       "      <td>NaN</td>\n",
       "      <td>NaN</td>\n",
       "      <td>...</td>\n",
       "      <td>NaN</td>\n",
       "      <td>NaN</td>\n",
       "      <td>NaN</td>\n",
       "      <td>NaN</td>\n",
       "      <td>NaN</td>\n",
       "      <td>NaN</td>\n",
       "      <td>NaN</td>\n",
       "      <td>3</td>\n",
       "      <td>1</td>\n",
       "      <td>2</td>\n",
       "    </tr>\n",
       "    <tr>\n",
       "      <th>1</th>\n",
       "      <td>910220</td>\n",
       "      <td>-1</td>\n",
       "      <td>9.0</td>\n",
       "      <td>0.0</td>\n",
       "      <td>NaN</td>\n",
       "      <td>NaN</td>\n",
       "      <td>NaN</td>\n",
       "      <td>NaN</td>\n",
       "      <td>21.0</td>\n",
       "      <td>11.0</td>\n",
       "      <td>...</td>\n",
       "      <td>4.0</td>\n",
       "      <td>8.0</td>\n",
       "      <td>11.0</td>\n",
       "      <td>10.0</td>\n",
       "      <td>3.0</td>\n",
       "      <td>9.0</td>\n",
       "      <td>4.0</td>\n",
       "      <td>5</td>\n",
       "      <td>2</td>\n",
       "      <td>1</td>\n",
       "    </tr>\n",
       "    <tr>\n",
       "      <th>2</th>\n",
       "      <td>910225</td>\n",
       "      <td>-1</td>\n",
       "      <td>9.0</td>\n",
       "      <td>17.0</td>\n",
       "      <td>NaN</td>\n",
       "      <td>NaN</td>\n",
       "      <td>NaN</td>\n",
       "      <td>NaN</td>\n",
       "      <td>17.0</td>\n",
       "      <td>10.0</td>\n",
       "      <td>...</td>\n",
       "      <td>2.0</td>\n",
       "      <td>9.0</td>\n",
       "      <td>9.0</td>\n",
       "      <td>6.0</td>\n",
       "      <td>3.0</td>\n",
       "      <td>9.0</td>\n",
       "      <td>2.0</td>\n",
       "      <td>5</td>\n",
       "      <td>2</td>\n",
       "      <td>3</td>\n",
       "    </tr>\n",
       "    <tr>\n",
       "      <th>3</th>\n",
       "      <td>910226</td>\n",
       "      <td>2</td>\n",
       "      <td>1.0</td>\n",
       "      <td>13.0</td>\n",
       "      <td>NaN</td>\n",
       "      <td>NaN</td>\n",
       "      <td>NaN</td>\n",
       "      <td>NaN</td>\n",
       "      <td>13.0</td>\n",
       "      <td>1.0</td>\n",
       "      <td>...</td>\n",
       "      <td>0.0</td>\n",
       "      <td>7.0</td>\n",
       "      <td>10.0</td>\n",
       "      <td>11.0</td>\n",
       "      <td>NaN</td>\n",
       "      <td>9.0</td>\n",
       "      <td>7.0</td>\n",
       "      <td>3</td>\n",
       "      <td>2</td>\n",
       "      <td>4</td>\n",
       "    </tr>\n",
       "    <tr>\n",
       "      <th>4</th>\n",
       "      <td>910241</td>\n",
       "      <td>-1</td>\n",
       "      <td>1.0</td>\n",
       "      <td>20.0</td>\n",
       "      <td>NaN</td>\n",
       "      <td>NaN</td>\n",
       "      <td>NaN</td>\n",
       "      <td>NaN</td>\n",
       "      <td>14.0</td>\n",
       "      <td>3.0</td>\n",
       "      <td>...</td>\n",
       "      <td>2.0</td>\n",
       "      <td>3.0</td>\n",
       "      <td>5.0</td>\n",
       "      <td>4.0</td>\n",
       "      <td>2.0</td>\n",
       "      <td>9.0</td>\n",
       "      <td>3.0</td>\n",
       "      <td>4</td>\n",
       "      <td>1</td>\n",
       "      <td>3</td>\n",
       "    </tr>\n",
       "  </tbody>\n",
       "</table>\n",
       "<p>5 rows × 366 columns</p>\n",
       "</div>"
      ],
      "text/plain": [
       "      LNR  AGER_TYP  AKT_DAT_KL  ALTER_HH  ALTER_KIND1  ALTER_KIND2  \\\n",
       "0  910215        -1         NaN       NaN          NaN          NaN   \n",
       "1  910220        -1         9.0       0.0          NaN          NaN   \n",
       "2  910225        -1         9.0      17.0          NaN          NaN   \n",
       "3  910226         2         1.0      13.0          NaN          NaN   \n",
       "4  910241        -1         1.0      20.0          NaN          NaN   \n",
       "\n",
       "   ALTER_KIND3  ALTER_KIND4  ALTERSKATEGORIE_FEIN  ANZ_HAUSHALTE_AKTIV  ...  \\\n",
       "0          NaN          NaN                   NaN                  NaN  ...   \n",
       "1          NaN          NaN                  21.0                 11.0  ...   \n",
       "2          NaN          NaN                  17.0                 10.0  ...   \n",
       "3          NaN          NaN                  13.0                  1.0  ...   \n",
       "4          NaN          NaN                  14.0                  3.0  ...   \n",
       "\n",
       "   VHN  VK_DHT4A  VK_DISTANZ  VK_ZG11  W_KEIT_KIND_HH  WOHNDAUER_2008  \\\n",
       "0  NaN       NaN         NaN      NaN             NaN             NaN   \n",
       "1  4.0       8.0        11.0     10.0             3.0             9.0   \n",
       "2  2.0       9.0         9.0      6.0             3.0             9.0   \n",
       "3  0.0       7.0        10.0     11.0             NaN             9.0   \n",
       "4  2.0       3.0         5.0      4.0             2.0             9.0   \n",
       "\n",
       "   WOHNLAGE ZABEOTYP ANREDE_KZ ALTERSKATEGORIE_GROB  \n",
       "0       NaN        3         1                    2  \n",
       "1       4.0        5         2                    1  \n",
       "2       2.0        5         2                    3  \n",
       "3       7.0        3         2                    4  \n",
       "4       3.0        4         1                    3  \n",
       "\n",
       "[5 rows x 366 columns]"
      ]
     },
     "execution_count": 5,
     "metadata": {},
     "output_type": "execute_result"
    }
   ],
   "source": [
    "print(azdias.shape)\n",
    "azdias.head()"
   ]
  },
  {
   "cell_type": "code",
   "execution_count": 6,
   "metadata": {},
   "outputs": [
    {
     "name": "stdout",
     "output_type": "stream",
     "text": [
      "(191652, 369)\n"
     ]
    },
    {
     "data": {
      "text/html": [
       "<div>\n",
       "<style scoped>\n",
       "    .dataframe tbody tr th:only-of-type {\n",
       "        vertical-align: middle;\n",
       "    }\n",
       "\n",
       "    .dataframe tbody tr th {\n",
       "        vertical-align: top;\n",
       "    }\n",
       "\n",
       "    .dataframe thead th {\n",
       "        text-align: right;\n",
       "    }\n",
       "</style>\n",
       "<table border=\"1\" class=\"dataframe\">\n",
       "  <thead>\n",
       "    <tr style=\"text-align: right;\">\n",
       "      <th></th>\n",
       "      <th>LNR</th>\n",
       "      <th>AGER_TYP</th>\n",
       "      <th>AKT_DAT_KL</th>\n",
       "      <th>ALTER_HH</th>\n",
       "      <th>ALTER_KIND1</th>\n",
       "      <th>ALTER_KIND2</th>\n",
       "      <th>ALTER_KIND3</th>\n",
       "      <th>ALTER_KIND4</th>\n",
       "      <th>ALTERSKATEGORIE_FEIN</th>\n",
       "      <th>ANZ_HAUSHALTE_AKTIV</th>\n",
       "      <th>...</th>\n",
       "      <th>VK_ZG11</th>\n",
       "      <th>W_KEIT_KIND_HH</th>\n",
       "      <th>WOHNDAUER_2008</th>\n",
       "      <th>WOHNLAGE</th>\n",
       "      <th>ZABEOTYP</th>\n",
       "      <th>PRODUCT_GROUP</th>\n",
       "      <th>CUSTOMER_GROUP</th>\n",
       "      <th>ONLINE_PURCHASE</th>\n",
       "      <th>ANREDE_KZ</th>\n",
       "      <th>ALTERSKATEGORIE_GROB</th>\n",
       "    </tr>\n",
       "  </thead>\n",
       "  <tbody>\n",
       "    <tr>\n",
       "      <th>0</th>\n",
       "      <td>9626</td>\n",
       "      <td>2</td>\n",
       "      <td>1.0</td>\n",
       "      <td>10.0</td>\n",
       "      <td>NaN</td>\n",
       "      <td>NaN</td>\n",
       "      <td>NaN</td>\n",
       "      <td>NaN</td>\n",
       "      <td>10.0</td>\n",
       "      <td>1.0</td>\n",
       "      <td>...</td>\n",
       "      <td>2.0</td>\n",
       "      <td>6.0</td>\n",
       "      <td>9.0</td>\n",
       "      <td>7.0</td>\n",
       "      <td>3</td>\n",
       "      <td>COSMETIC_AND_FOOD</td>\n",
       "      <td>MULTI_BUYER</td>\n",
       "      <td>0</td>\n",
       "      <td>1</td>\n",
       "      <td>4</td>\n",
       "    </tr>\n",
       "    <tr>\n",
       "      <th>1</th>\n",
       "      <td>9628</td>\n",
       "      <td>-1</td>\n",
       "      <td>9.0</td>\n",
       "      <td>11.0</td>\n",
       "      <td>NaN</td>\n",
       "      <td>NaN</td>\n",
       "      <td>NaN</td>\n",
       "      <td>NaN</td>\n",
       "      <td>NaN</td>\n",
       "      <td>NaN</td>\n",
       "      <td>...</td>\n",
       "      <td>3.0</td>\n",
       "      <td>0.0</td>\n",
       "      <td>9.0</td>\n",
       "      <td>NaN</td>\n",
       "      <td>3</td>\n",
       "      <td>FOOD</td>\n",
       "      <td>SINGLE_BUYER</td>\n",
       "      <td>0</td>\n",
       "      <td>1</td>\n",
       "      <td>4</td>\n",
       "    </tr>\n",
       "    <tr>\n",
       "      <th>2</th>\n",
       "      <td>143872</td>\n",
       "      <td>-1</td>\n",
       "      <td>1.0</td>\n",
       "      <td>6.0</td>\n",
       "      <td>NaN</td>\n",
       "      <td>NaN</td>\n",
       "      <td>NaN</td>\n",
       "      <td>NaN</td>\n",
       "      <td>0.0</td>\n",
       "      <td>1.0</td>\n",
       "      <td>...</td>\n",
       "      <td>11.0</td>\n",
       "      <td>6.0</td>\n",
       "      <td>9.0</td>\n",
       "      <td>2.0</td>\n",
       "      <td>3</td>\n",
       "      <td>COSMETIC_AND_FOOD</td>\n",
       "      <td>MULTI_BUYER</td>\n",
       "      <td>0</td>\n",
       "      <td>2</td>\n",
       "      <td>4</td>\n",
       "    </tr>\n",
       "    <tr>\n",
       "      <th>3</th>\n",
       "      <td>143873</td>\n",
       "      <td>1</td>\n",
       "      <td>1.0</td>\n",
       "      <td>8.0</td>\n",
       "      <td>NaN</td>\n",
       "      <td>NaN</td>\n",
       "      <td>NaN</td>\n",
       "      <td>NaN</td>\n",
       "      <td>8.0</td>\n",
       "      <td>0.0</td>\n",
       "      <td>...</td>\n",
       "      <td>2.0</td>\n",
       "      <td>NaN</td>\n",
       "      <td>9.0</td>\n",
       "      <td>7.0</td>\n",
       "      <td>1</td>\n",
       "      <td>COSMETIC</td>\n",
       "      <td>MULTI_BUYER</td>\n",
       "      <td>0</td>\n",
       "      <td>1</td>\n",
       "      <td>4</td>\n",
       "    </tr>\n",
       "    <tr>\n",
       "      <th>4</th>\n",
       "      <td>143874</td>\n",
       "      <td>-1</td>\n",
       "      <td>1.0</td>\n",
       "      <td>20.0</td>\n",
       "      <td>NaN</td>\n",
       "      <td>NaN</td>\n",
       "      <td>NaN</td>\n",
       "      <td>NaN</td>\n",
       "      <td>14.0</td>\n",
       "      <td>7.0</td>\n",
       "      <td>...</td>\n",
       "      <td>4.0</td>\n",
       "      <td>2.0</td>\n",
       "      <td>9.0</td>\n",
       "      <td>3.0</td>\n",
       "      <td>1</td>\n",
       "      <td>FOOD</td>\n",
       "      <td>MULTI_BUYER</td>\n",
       "      <td>0</td>\n",
       "      <td>1</td>\n",
       "      <td>3</td>\n",
       "    </tr>\n",
       "  </tbody>\n",
       "</table>\n",
       "<p>5 rows × 369 columns</p>\n",
       "</div>"
      ],
      "text/plain": [
       "      LNR  AGER_TYP  AKT_DAT_KL  ALTER_HH  ALTER_KIND1  ALTER_KIND2  \\\n",
       "0    9626         2         1.0      10.0          NaN          NaN   \n",
       "1    9628        -1         9.0      11.0          NaN          NaN   \n",
       "2  143872        -1         1.0       6.0          NaN          NaN   \n",
       "3  143873         1         1.0       8.0          NaN          NaN   \n",
       "4  143874        -1         1.0      20.0          NaN          NaN   \n",
       "\n",
       "   ALTER_KIND3  ALTER_KIND4  ALTERSKATEGORIE_FEIN  ANZ_HAUSHALTE_AKTIV  ...  \\\n",
       "0          NaN          NaN                  10.0                  1.0  ...   \n",
       "1          NaN          NaN                   NaN                  NaN  ...   \n",
       "2          NaN          NaN                   0.0                  1.0  ...   \n",
       "3          NaN          NaN                   8.0                  0.0  ...   \n",
       "4          NaN          NaN                  14.0                  7.0  ...   \n",
       "\n",
       "   VK_ZG11  W_KEIT_KIND_HH  WOHNDAUER_2008  WOHNLAGE  ZABEOTYP  \\\n",
       "0      2.0             6.0             9.0       7.0         3   \n",
       "1      3.0             0.0             9.0       NaN         3   \n",
       "2     11.0             6.0             9.0       2.0         3   \n",
       "3      2.0             NaN             9.0       7.0         1   \n",
       "4      4.0             2.0             9.0       3.0         1   \n",
       "\n",
       "       PRODUCT_GROUP  CUSTOMER_GROUP ONLINE_PURCHASE ANREDE_KZ  \\\n",
       "0  COSMETIC_AND_FOOD     MULTI_BUYER               0         1   \n",
       "1               FOOD    SINGLE_BUYER               0         1   \n",
       "2  COSMETIC_AND_FOOD     MULTI_BUYER               0         2   \n",
       "3           COSMETIC     MULTI_BUYER               0         1   \n",
       "4               FOOD     MULTI_BUYER               0         1   \n",
       "\n",
       "  ALTERSKATEGORIE_GROB  \n",
       "0                    4  \n",
       "1                    4  \n",
       "2                    4  \n",
       "3                    4  \n",
       "4                    3  \n",
       "\n",
       "[5 rows x 369 columns]"
      ]
     },
     "execution_count": 6,
     "metadata": {},
     "output_type": "execute_result"
    }
   ],
   "source": [
    "print(customers.shape)\n",
    "customers.head()"
   ]
  },
  {
   "cell_type": "markdown",
   "metadata": {},
   "source": [
    "Error of mixtypes appearing in column 18 and 19 in azdias and customers files wenn getting data.\n",
    "So we have to check this:"
   ]
  },
  {
   "cell_type": "code",
   "execution_count": 8,
   "metadata": {},
   "outputs": [
    {
     "name": "stdout",
     "output_type": "stream",
     "text": [
      "CAMEO_DEUG_2015  CAMEO_INTL_2015\n",
      "2                14                 12198\n",
      "4                24                  8391\n",
      "6                43                  7158\n",
      "1                15                  6845\n",
      "3                25                  5980\n",
      "                                    ...  \n",
      "5.0              35.0                 266\n",
      "7.0              45.0                 258\n",
      "9.0              52.0                 253\n",
      "6.0              31.0                 164\n",
      "X                XX                   126\n",
      "Length: 67, dtype: int64\n",
      "CAMEO_DEUG_2015  CAMEO_INTL_2015\n",
      "9                51                 47054\n",
      "9.0              51.0               34202\n",
      "7                41                 34077\n",
      "6                43                 32730\n",
      "4                24                 32717\n",
      "                                    ...  \n",
      "6.0              35.0                2532\n",
      "4.0              25.0                2265\n",
      "7.0              45.0                1931\n",
      "5.0              35.0                1734\n",
      "X                XX                   373\n",
      "Length: 67, dtype: int64\n"
     ]
    }
   ],
   "source": [
    "print(customers.iloc[:,18:20].value_counts())\n",
    "print(azdias.iloc[:,18:20].value_counts())"
   ]
  },
  {
   "cell_type": "code",
   "execution_count": 9,
   "metadata": {},
   "outputs": [
    {
     "name": "stdout",
     "output_type": "stream",
     "text": [
      "<class 'str'>      459358\n",
      "<class 'float'>    431863\n",
      "Name: CAMEO_DEUG_2015, dtype: int64\n",
      "<class 'str'>      459358\n",
      "<class 'float'>    431863\n",
      "Name: CAMEO_INTL_2015, dtype: int64\n",
      "<class 'float'>    891221\n",
      "Name: CJT_GESAMTTYP, dtype: int64\n"
     ]
    }
   ],
   "source": [
    "check_types= azdias.applymap(type)\n",
    "print(check_types[azdias.columns[18]].value_counts())\n",
    "print(check_types[azdias.columns[19]].value_counts())\n",
    "print(check_types[azdias.columns[20]].value_counts())"
   ]
  },
  {
   "cell_type": "code",
   "execution_count": 10,
   "metadata": {},
   "outputs": [
    {
     "name": "stdout",
     "output_type": "stream",
     "text": [
      "<class 'str'>      105198\n",
      "<class 'float'>     86454\n",
      "Name: CAMEO_DEUG_2015, dtype: int64\n",
      "<class 'str'>      105198\n",
      "<class 'float'>     86454\n",
      "Name: CAMEO_INTL_2015, dtype: int64\n",
      "<class 'float'>    191652\n",
      "Name: CJT_GESAMTTYP, dtype: int64\n"
     ]
    }
   ],
   "source": [
    "check_types= customers.applymap(type)\n",
    "print(check_types[customers.columns[18]].value_counts())\n",
    "print(check_types[customers.columns[19]].value_counts())\n",
    "print(check_types[customers.columns[20]].value_counts())"
   ]
  },
  {
   "cell_type": "markdown",
   "metadata": {},
   "source": [
    "Both of the columns contains the types: string, int and float. We will convert the strings to NAN, the float to int"
   ]
  },
  {
   "cell_type": "code",
   "execution_count": 11,
   "metadata": {},
   "outputs": [
    {
     "name": "stdout",
     "output_type": "stream",
     "text": [
      "<class 'str'>      459358\n",
      "<class 'float'>    431863\n",
      "Name: CAMEO_DEUG_2015, dtype: int64\n",
      "<class 'str'>      459358\n",
      "<class 'float'>    431863\n",
      "Name: CAMEO_INTL_2015, dtype: int64\n",
      "<class 'str'>      105198\n",
      "<class 'float'>     86454\n",
      "Name: CAMEO_DEUG_2015, dtype: int64\n",
      "<class 'str'>      105198\n",
      "<class 'float'>     86454\n",
      "Name: CAMEO_INTL_2015, dtype: int64\n"
     ]
    }
   ],
   "source": [
    "check_types= azdias.applymap(type)\n",
    "print(check_types[azdias.columns[18]].value_counts())\n",
    "print(check_types[azdias.columns[19]].value_counts())\n",
    "check_types= customers.applymap(type)\n",
    "print(check_types[customers.columns[18]].value_counts())\n",
    "print(check_types[customers.columns[19]].value_counts())"
   ]
  },
  {
   "cell_type": "markdown",
   "metadata": {},
   "source": [
    "Missing values of azdias"
   ]
  },
  {
   "cell_type": "code",
   "execution_count": 12,
   "metadata": {},
   "outputs": [
    {
     "data": {
      "text/plain": [
       "<matplotlib.axes._subplots.AxesSubplot at 0x141baf090>"
      ]
     },
     "execution_count": 12,
     "metadata": {},
     "output_type": "execute_result"
    },
    {
     "data": {
      "image/png": "[encoded data removed]",
      "text/plain": [
       "<Figure size 432x288 with 1 Axes>"
      ]
     },
     "metadata": {
      "needs_background": "light"
     },
     "output_type": "display_data"
    }
   ],
   "source": [
    "azdias.isnull().mean().nlargest(10).plot.bar()"
   ]
  },
  {
   "cell_type": "markdown",
   "metadata": {},
   "source": [
    "Missing values of customers"
   ]
  },
  {
   "cell_type": "code",
   "execution_count": 13,
   "metadata": {},
   "outputs": [
    {
     "data": {
      "text/plain": [
       "<matplotlib.axes._subplots.AxesSubplot at 0x125ef1a90>"
      ]
     },
     "execution_count": 13,
     "metadata": {},
     "output_type": "execute_result"
    },
    {
     "data": {
      "image/png": "[encoded data removed]",
      "text/plain": [
       "<Figure size 432x288 with 1 Axes>"
      ]
     },
     "metadata": {
      "needs_background": "light"
     },
     "output_type": "display_data"
    }
   ],
   "source": [
    "customers.isnull().mean().nlargest(10).plot.bar()"
   ]
  },
  {
   "cell_type": "markdown",
   "metadata": {},
   "source": [
    "Histogram of missing values azdias"
   ]
  },
  {
   "cell_type": "code",
   "execution_count": 14,
   "metadata": {},
   "outputs": [
    {
     "data": {
      "text/plain": [
       "<matplotlib.axes._subplots.AxesSubplot at 0x126357290>"
      ]
     },
     "execution_count": 14,
     "metadata": {},
     "output_type": "execute_result"
    },
    {
     "data": {
      "image/png": "[encoded data removed]",
      "text/plain": [
       "<Figure size 432x288 with 1 Axes>"
      ]
     },
     "metadata": {
      "needs_background": "light"
     },
     "output_type": "display_data"
    }
   ],
   "source": [
    "azdias.isnull().mean().plot.hist()"
   ]
  },
  {
   "cell_type": "markdown",
   "metadata": {},
   "source": [
    "Histogram of missing values customers"
   ]
  },
  {
   "cell_type": "code",
   "execution_count": 15,
   "metadata": {},
   "outputs": [
    {
     "data": {
      "text/plain": [
       "<matplotlib.axes._subplots.AxesSubplot at 0x12007f350>"
      ]
     },
     "execution_count": 15,
     "metadata": {},
     "output_type": "execute_result"
    },
    {
     "data": {
      "image/png": "[encoded data removed]",
      "text/plain": [
       "<Figure size 432x288 with 1 Axes>"
      ]
     },
     "metadata": {
      "needs_background": "light"
     },
     "output_type": "display_data"
    }
   ],
   "source": [
    "customers.isnull().mean().plot.hist()"
   ]
  },
  {
   "cell_type": "code",
   "execution_count": 16,
   "metadata": {},
   "outputs": [
    {
     "data": {
      "text/plain": [
       "<matplotlib.axes._subplots.AxesSubplot at 0x11f6a6850>"
      ]
     },
     "execution_count": 16,
     "metadata": {},
     "output_type": "execute_result"
    },
    {
     "data": {
      "image/png": "[encoded data removed]",
      "text/plain": [
       "<Figure size 432x288 with 1 Axes>"
      ]
     },
     "metadata": {
      "needs_background": "light"
     },
     "output_type": "display_data"
    }
   ],
   "source": [
    "azdias.isnull().sum(axis=1).plot.hist()"
   ]
  },
  {
   "cell_type": "code",
   "execution_count": 17,
   "metadata": {},
   "outputs": [
    {
     "data": {
      "text/plain": [
       "<matplotlib.axes._subplots.AxesSubplot at 0x11f67dc50>"
      ]
     },
     "execution_count": 17,
     "metadata": {},
     "output_type": "execute_result"
    },
    {
     "data": {
      "image/png": "[encoded data removed]",
      "text/plain": [
       "<Figure size 432x288 with 1 Axes>"
      ]
     },
     "metadata": {
      "needs_background": "light"
     },
     "output_type": "display_data"
    }
   ],
   "source": [
    "customers.isnull().sum(axis=1).plot.hist()"
   ]
  },
  {
   "cell_type": "code",
   "execution_count": 18,
   "metadata": {},
   "outputs": [],
   "source": [
    "#drop additional three columns which are missing in azdias to harmonize\n",
    "customers_copy = customers.copy()\n",
    "customers_clean = customers_copy.drop(['CUSTOMER_GROUP', 'ONLINE_PURCHASE', 'PRODUCT_GROUP'], inplace=False, axis=1)"
   ]
  },
  {
   "cell_type": "code",
   "execution_count": 19,
   "metadata": {},
   "outputs": [],
   "source": [
    "#dropping columns that have more than 40 % nan (coustomers and azdias is combined)\n",
    "drop_col = customers.columns[customers.isnull().mean()>0.4]|azdias.columns[azdias.isnull().mean()>0.4]\n",
    "azdias_clean = azdias.drop(drop_col, axis=1)\n",
    "customers_clean = customers_clean.drop(drop_col, axis=1)"
   ]
  },
  {
   "cell_type": "code",
   "execution_count": 20,
   "metadata": {},
   "outputs": [],
   "source": [
    "#drop rows with more than 25 missing \n",
    "azdias_clean = azdias_clean.dropna(thresh=azdias_clean.shape[1]-25)\n",
    "customers_clean = customers_clean.dropna(thresh=customers_clean.shape[1]-25)"
   ]
  },
  {
   "cell_type": "code",
   "execution_count": 21,
   "metadata": {},
   "outputs": [],
   "source": [
    "attributes = pd.read_excel('../data_arvato_bertelsmann//DIAS Attributes - Values 2017.xlsx',header=1, engine='openpyxl')\n",
    "attributes['Attribute'] = attributes['Attribute'].ffill()\n",
    "attributes['Description'] = attributes['Description'].ffill()\n",
    "attributes = attributes.drop(['Unnamed: 0'], axis=1)\n",
    "unique_atrributes = set(attributes.Attribute.tolist())"
   ]
  },
  {
   "cell_type": "code",
   "execution_count": 22,
   "metadata": {},
   "outputs": [
    {
     "data": {
      "text/plain": [
       "['AGER_TYP',\n",
       " 'ALTERSKATEGORIE_GROB',\n",
       " 'ALTER_HH',\n",
       " 'ANREDE_KZ',\n",
       " 'ANZ_HAUSHALTE_AKTIV',\n",
       " 'ANZ_HH_TITEL',\n",
       " 'ANZ_PERSONEN',\n",
       " 'ANZ_TITEL',\n",
       " 'BALLRAUM',\n",
       " 'BIP_FLAG',\n",
       " 'CAMEO_DEUG_2015',\n",
       " 'CAMEO_DEUINTL_2015',\n",
       " 'CAMEO_DEU_2015',\n",
       " 'CJT_GESAMTTYP',\n",
       " 'D19_BANKEN_ANZ_12',\n",
       " 'D19_BANKEN_ANZ_24',\n",
       " 'D19_BANKEN_DATUM',\n",
       " 'D19_BANKEN_DIREKT_RZ',\n",
       " 'D19_BANKEN_GROSS_RZ',\n",
       " 'D19_BANKEN_LOKAL_RZ',\n",
       " 'D19_BANKEN_OFFLINE_DATUM',\n",
       " 'D19_BANKEN_ONLINE_DATUM',\n",
       " 'D19_BANKEN_ONLINE_QUOTE_12',\n",
       " 'D19_BANKEN_REST_RZ',\n",
       " 'D19_BEKLEIDUNG_GEH_RZ',\n",
       " 'D19_BEKLEIDUNG_REST_RZ',\n",
       " 'D19_BILDUNG_RZ',\n",
       " 'D19_BIO_OEKO_RZ',\n",
       " 'D19_BUCH_RZ',\n",
       " 'D19_DIGIT_SERV_RZ',\n",
       " 'D19_DROGERIEARTIKEL_RZ',\n",
       " 'D19_ENERGIE_RZ',\n",
       " 'D19_FREIZEIT_RZ',\n",
       " 'D19_GARTEN_RZ',\n",
       " 'D19_GESAMT_ANZ_12',\n",
       " 'D19_GESAMT_ANZ_24',\n",
       " 'D19_GESAMT_DATUM',\n",
       " 'D19_GESAMT_OFFLINE_DATUM',\n",
       " 'D19_GESAMT_ONLINE_DATUM',\n",
       " 'D19_GESAMT_ONLINE_QUOTE_12',\n",
       " 'D19_HANDWERK_RZ',\n",
       " 'D19_HAUS_DEKO_RZ',\n",
       " 'D19_KINDERARTIKEL_RZ',\n",
       " 'D19_KK_KUNDENTYP',\n",
       " 'D19_KONSUMTYP',\n",
       " 'D19_KOSMETIK_RZ',\n",
       " 'D19_LEBENSMITTEL_RZ',\n",
       " 'D19_LOTTO_RZ',\n",
       " 'D19_NAHRUNGSERGAENZUNG_RZ',\n",
       " 'D19_RATGEBER_RZ',\n",
       " 'D19_REISEN_RZ',\n",
       " 'D19_SAMMELARTIKEL_RZ',\n",
       " 'D19_SCHUHE_RZ',\n",
       " 'D19_SONSTIGE_RZ',\n",
       " 'D19_TECHNIK_RZ',\n",
       " 'D19_TELKO_ANZ_12',\n",
       " 'D19_TELKO_ANZ_24',\n",
       " 'D19_TELKO_DATUM',\n",
       " 'D19_TELKO_MOBILE_RZ',\n",
       " 'D19_TELKO_OFFLINE_DATUM',\n",
       " 'D19_TELKO_ONLINE_DATUM',\n",
       " 'D19_TELKO_REST_RZ',\n",
       " 'D19_TIERARTIKEL_RZ',\n",
       " 'D19_VERSAND_ANZ_12',\n",
       " 'D19_VERSAND_ANZ_24',\n",
       " 'D19_VERSAND_DATUM',\n",
       " 'D19_VERSAND_OFFLINE_DATUM',\n",
       " 'D19_VERSAND_ONLINE_DATUM',\n",
       " 'D19_VERSAND_ONLINE_QUOTE_12',\n",
       " 'D19_VERSAND_REST_RZ',\n",
       " 'D19_VERSICHERUNGEN_RZ',\n",
       " 'D19_VERSI_ANZ_12',\n",
       " 'D19_VERSI_ANZ_24',\n",
       " 'D19_VOLLSORTIMENT_RZ',\n",
       " 'D19_WEIN_FEINKOST_RZ',\n",
       " 'EWDICHTE',\n",
       " 'FINANZTYP',\n",
       " 'FINANZ_ANLEGER',\n",
       " 'FINANZ_HAUSBAUER',\n",
       " 'FINANZ_MINIMALIST',\n",
       " 'FINANZ_SPARER',\n",
       " 'FINANZ_UNAUFFAELLIGER',\n",
       " 'FINANZ_VORSORGER',\n",
       " 'GEBAEUDETYP',\n",
       " 'GEBAEUDETYP_RASTER',\n",
       " 'GEBURTSJAHR',\n",
       " 'GEOSCORE_KLS7',\n",
       " 'GFK_URLAUBERTYP',\n",
       " 'GREEN_AVANTGARDE',\n",
       " 'HAUSHALTSSTRUKTUR',\n",
       " 'HEALTH_TYP',\n",
       " 'HH_EINKOMMEN_SCORE',\n",
       " 'INNENSTADT',\n",
       " 'KBA05_ALTER1',\n",
       " 'KBA05_ALTER2',\n",
       " 'KBA05_ALTER3',\n",
       " 'KBA05_ALTER4',\n",
       " 'KBA05_ANHANG',\n",
       " 'KBA05_ANTG1',\n",
       " 'KBA05_ANTG2',\n",
       " 'KBA05_ANTG3',\n",
       " 'KBA05_ANTG4',\n",
       " 'KBA05_AUTOQUOT',\n",
       " 'KBA05_BAUMAX',\n",
       " 'KBA05_CCM1',\n",
       " 'KBA05_CCM2',\n",
       " 'KBA05_CCM3',\n",
       " 'KBA05_CCM4',\n",
       " 'KBA05_DIESEL',\n",
       " 'KBA05_FRAU',\n",
       " 'KBA05_GBZ',\n",
       " 'KBA05_HERST1',\n",
       " 'KBA05_HERST2',\n",
       " 'KBA05_HERST3',\n",
       " 'KBA05_HERST4',\n",
       " 'KBA05_HERST5',\n",
       " 'KBA05_HERSTTEMP',\n",
       " 'KBA05_KRSAQUOT',\n",
       " 'KBA05_KRSHERST1',\n",
       " 'KBA05_KRSHERST2',\n",
       " 'KBA05_KRSHERST3',\n",
       " 'KBA05_KRSKLEIN',\n",
       " 'KBA05_KRSOBER',\n",
       " 'KBA05_KRSVAN',\n",
       " 'KBA05_KRSZUL',\n",
       " 'KBA05_KW1',\n",
       " 'KBA05_KW2',\n",
       " 'KBA05_KW3',\n",
       " 'KBA05_MAXAH',\n",
       " 'KBA05_MAXBJ',\n",
       " 'KBA05_MAXHERST',\n",
       " 'KBA05_MAXSEG',\n",
       " 'KBA05_MAXVORB',\n",
       " 'KBA05_MOD1',\n",
       " 'KBA05_MOD2',\n",
       " 'KBA05_MOD3',\n",
       " 'KBA05_MOD4',\n",
       " 'KBA05_MOD8',\n",
       " 'KBA05_MODTEMP',\n",
       " 'KBA05_MOTOR',\n",
       " 'KBA05_MOTRAD',\n",
       " 'KBA05_SEG1',\n",
       " 'KBA05_SEG10',\n",
       " 'KBA05_SEG2',\n",
       " 'KBA05_SEG3',\n",
       " 'KBA05_SEG4',\n",
       " 'KBA05_SEG5',\n",
       " 'KBA05_SEG6',\n",
       " 'KBA05_SEG7',\n",
       " 'KBA05_SEG8',\n",
       " 'KBA05_SEG9',\n",
       " 'KBA05_VORB0',\n",
       " 'KBA05_VORB1',\n",
       " 'KBA05_VORB2',\n",
       " 'KBA05_ZUL1',\n",
       " 'KBA05_ZUL2',\n",
       " 'KBA05_ZUL3',\n",
       " 'KBA05_ZUL4',\n",
       " 'KBA13_ALTERHALTER_30',\n",
       " 'KBA13_ALTERHALTER_45',\n",
       " 'KBA13_ALTERHALTER_60',\n",
       " 'KBA13_ALTERHALTER_61',\n",
       " 'KBA13_ANZAHL_PKW',\n",
       " 'KBA13_AUDI',\n",
       " 'KBA13_AUTOQUOTE',\n",
       " 'KBA13_BJ_1999',\n",
       " 'KBA13_BJ_2000',\n",
       " 'KBA13_BJ_2004',\n",
       " 'KBA13_BJ_2006',\n",
       " 'KBA13_BJ_2008',\n",
       " 'KBA13_BJ_2009',\n",
       " 'KBA13_BMW',\n",
       " 'KBA13_CCM_0_1400',\n",
       " 'KBA13_CCM_1000',\n",
       " 'KBA13_CCM_1200',\n",
       " 'KBA13_CCM_1400',\n",
       " 'KBA13_CCM_1400_2500',\n",
       " 'KBA13_CCM_1500',\n",
       " 'KBA13_CCM_1600',\n",
       " 'KBA13_CCM_1800',\n",
       " 'KBA13_CCM_2000',\n",
       " 'KBA13_CCM_2500',\n",
       " 'KBA13_CCM_2501',\n",
       " 'KBA13_CCM_3000',\n",
       " 'KBA13_CCM_3001',\n",
       " 'KBA13_FAB_ASIEN',\n",
       " 'KBA13_FAB_SONSTIGE',\n",
       " 'KBA13_FIAT',\n",
       " 'KBA13_FORD',\n",
       " 'KBA13_HALTER_20',\n",
       " 'KBA13_HALTER_25',\n",
       " 'KBA13_HALTER_30',\n",
       " 'KBA13_HALTER_35',\n",
       " 'KBA13_HALTER_40',\n",
       " 'KBA13_HALTER_45',\n",
       " 'KBA13_HALTER_50',\n",
       " 'KBA13_HALTER_55',\n",
       " 'KBA13_HALTER_60',\n",
       " 'KBA13_HALTER_65',\n",
       " 'KBA13_HALTER_66',\n",
       " 'KBA13_HERST_ASIEN',\n",
       " 'KBA13_HERST_AUDI_VW',\n",
       " 'KBA13_HERST_BMW_BENZ',\n",
       " 'KBA13_HERST_EUROPA',\n",
       " 'KBA13_HERST_FORD_OPEL',\n",
       " 'KBA13_HERST_SONST',\n",
       " 'KBA13_KMH_0_140',\n",
       " 'KBA13_KMH_110',\n",
       " 'KBA13_KMH_140',\n",
       " 'KBA13_KMH_140_210',\n",
       " 'KBA13_KMH_180',\n",
       " 'KBA13_KMH_211',\n",
       " 'KBA13_KMH_250',\n",
       " 'KBA13_KMH_251',\n",
       " 'KBA13_KRSAQUOT',\n",
       " 'KBA13_KRSHERST_AUDI_VW',\n",
       " 'KBA13_KRSHERST_BMW_BENZ',\n",
       " 'KBA13_KRSHERST_FORD_OPEL',\n",
       " 'KBA13_KRSSEG_KLEIN',\n",
       " 'KBA13_KRSSEG_OBER',\n",
       " 'KBA13_KRSSEG_VAN',\n",
       " 'KBA13_KRSZUL_NEU',\n",
       " 'KBA13_KW_0_60',\n",
       " 'KBA13_KW_110',\n",
       " 'KBA13_KW_120',\n",
       " 'KBA13_KW_121',\n",
       " 'KBA13_KW_30',\n",
       " 'KBA13_KW_40',\n",
       " 'KBA13_KW_50',\n",
       " 'KBA13_KW_60',\n",
       " 'KBA13_KW_61_120',\n",
       " 'KBA13_KW_70',\n",
       " 'KBA13_KW_80',\n",
       " 'KBA13_KW_90',\n",
       " 'KBA13_MAZDA',\n",
       " 'KBA13_MERCEDES',\n",
       " 'KBA13_MOTOR',\n",
       " 'KBA13_NISSAN',\n",
       " 'KBA13_OPEL',\n",
       " 'KBA13_PEUGEOT',\n",
       " 'KBA13_RENAULT',\n",
       " 'KBA13_SEG_GELAENDEWAGEN',\n",
       " 'KBA13_SEG_GROSSRAUMVANS',\n",
       " 'KBA13_SEG_KLEINST',\n",
       " 'KBA13_SEG_KLEINWAGEN',\n",
       " 'KBA13_SEG_KOMPAKTKLASSE',\n",
       " 'KBA13_SEG_MINIVANS',\n",
       " 'KBA13_SEG_MINIWAGEN',\n",
       " 'KBA13_SEG_MITTELKLASSE',\n",
       " 'KBA13_SEG_OBEREMITTELKLASSE',\n",
       " 'KBA13_SEG_OBERKLASSE',\n",
       " 'KBA13_SEG_SONSTIGE',\n",
       " 'KBA13_SEG_SPORTWAGEN',\n",
       " 'KBA13_SEG_UTILITIES',\n",
       " 'KBA13_SEG_VAN',\n",
       " 'KBA13_SEG_WOHNMOBILE',\n",
       " 'KBA13_SITZE_4',\n",
       " 'KBA13_SITZE_5',\n",
       " 'KBA13_SITZE_6',\n",
       " 'KBA13_TOYOTA',\n",
       " 'KBA13_VORB_0',\n",
       " 'KBA13_VORB_1',\n",
       " 'KBA13_VORB_1_2',\n",
       " 'KBA13_VORB_2',\n",
       " 'KBA13_VORB_3',\n",
       " 'KBA13_VW',\n",
       " 'KKK',\n",
       " 'KONSUMNAEHE',\n",
       " 'LP_FAMILIE_FEIN',\n",
       " 'LP_FAMILIE_GROB',\n",
       " 'LP_LEBENSPHASE_FEIN',\n",
       " 'LP_LEBENSPHASE_GROB',\n",
       " 'LP_STATUS_FEIN',\n",
       " 'LP_STATUS_GROB',\n",
       " 'MIN_GEBAEUDEJAHR',\n",
       " 'MOBI_REGIO',\n",
       " 'NATIONALITAET_KZ',\n",
       " 'ONLINE_AFFINITAET',\n",
       " 'ORTSGR_KLS9',\n",
       " 'OST_WEST_KZ',\n",
       " 'PLZ8_ANTG1',\n",
       " 'PLZ8_ANTG2',\n",
       " 'PLZ8_ANTG3',\n",
       " 'PLZ8_ANTG4',\n",
       " 'PLZ8_BAUMAX',\n",
       " 'PLZ8_GBZ',\n",
       " 'PLZ8_HHZ',\n",
       " 'PRAEGENDE_JUGENDJAHRE',\n",
       " 'REGIOTYP',\n",
       " 'RELAT_AB',\n",
       " 'RETOURTYP_BK_S',\n",
       " 'SEMIO_DOM',\n",
       " 'SEMIO_ERL',\n",
       " 'SEMIO_FAM',\n",
       " 'SEMIO_KAEM',\n",
       " 'SEMIO_KRIT',\n",
       " 'SEMIO_KULT',\n",
       " 'SEMIO_LUST',\n",
       " 'SEMIO_MAT',\n",
       " 'SEMIO_PFLICHT',\n",
       " 'SEMIO_RAT',\n",
       " 'SEMIO_REL',\n",
       " 'SEMIO_SOZ',\n",
       " 'SEMIO_TRADV',\n",
       " 'SEMIO_VERT',\n",
       " 'SHOPPER_TYP',\n",
       " 'SOHO_FLAG',\n",
       " 'TITEL_KZ',\n",
       " 'VERS_TYP',\n",
       " 'WACHSTUMSGEBIET_NB',\n",
       " 'WOHNDAUER_2008',\n",
       " 'WOHNLAGE',\n",
       " 'W_KEIT_KIND_HH',\n",
       " 'ZABEOTYP']"
      ]
     },
     "execution_count": 22,
     "metadata": {},
     "output_type": "execute_result"
    }
   ],
   "source": [
    "len(set(customers_clean.columns) & set(azdias_clean.columns))\n",
    "#len(unique_to_azdias)\n",
    "sorted(unique_atrributes)"
   ]
  },
  {
   "cell_type": "code",
   "execution_count": 23,
   "metadata": {
    "scrolled": true
   },
   "outputs": [
    {
     "data": {
      "text/plain": [
       "['VHA',\n",
       " 'D19_TELKO_MOBILE',\n",
       " 'D19_BIO_OEKO',\n",
       " 'STRUKTURTYP',\n",
       " 'VK_ZG11',\n",
       " 'KBA13_KMH_210',\n",
       " 'RT_UEBERGROESSE',\n",
       " 'CJT_TYP_5',\n",
       " 'KONSUMZELLE',\n",
       " 'RT_SCHNAEPPCHEN',\n",
       " 'KBA13_GBZ',\n",
       " 'ARBEIT',\n",
       " 'CJT_TYP_4',\n",
       " 'D19_SOZIALES',\n",
       " 'D19_HANDWERK',\n",
       " 'DSL_FLAG',\n",
       " 'D19_VERSICHERUNGEN',\n",
       " 'SOHO_KZ',\n",
       " 'KBA13_ANTG2',\n",
       " 'D19_BANKEN_DIREKT',\n",
       " 'D19_VERSI_DATUM',\n",
       " 'LNR',\n",
       " 'FIRMENDICHTE',\n",
       " 'D19_BANKEN_LOKAL',\n",
       " 'KBA13_ANTG3',\n",
       " 'D19_WEIN_FEINKOST',\n",
       " 'CJT_TYP_1',\n",
       " 'D19_TECHNIK',\n",
       " 'D19_VERSI_OFFLINE_DATUM',\n",
       " 'D19_NAHRUNGSERGAENZUNG',\n",
       " 'D19_VERSI_ONLINE_QUOTE_12',\n",
       " 'D19_TELKO_REST',\n",
       " 'D19_BEKLEIDUNG_GEH',\n",
       " 'D19_SCHUHE',\n",
       " 'D19_FREIZEIT',\n",
       " 'D19_DROGERIEARTIKEL',\n",
       " 'D19_HAUS_DEKO',\n",
       " 'D19_RATGEBER',\n",
       " 'D19_LEBENSMITTEL',\n",
       " 'KBA13_BAUMAX',\n",
       " 'UMFELD_ALT',\n",
       " 'RT_KEIN_ANREIZ',\n",
       " 'D19_VERSAND_REST',\n",
       " 'D19_BILDUNG',\n",
       " 'D19_BUCH_CD',\n",
       " 'UMFELD_JUNG',\n",
       " 'D19_ENERGIE',\n",
       " 'VHN',\n",
       " 'D19_VERSI_ONLINE_DATUM',\n",
       " 'D19_BEKLEIDUNG_REST',\n",
       " 'D19_BANKEN_REST',\n",
       " 'AKT_DAT_KL',\n",
       " 'D19_SAMMELARTIKEL',\n",
       " 'HH_DELTA_FLAG',\n",
       " 'KBA13_ANTG1',\n",
       " 'MOBI_RASTER',\n",
       " 'ANZ_STATISTISCHE_HAUSHALTE',\n",
       " 'D19_BANKEN_GROSS',\n",
       " 'EINGEZOGENAM_HH_JAHR',\n",
       " 'GEMEINDETYP',\n",
       " 'UNGLEICHENN_FLAG',\n",
       " 'EINGEFUEGT_AM',\n",
       " 'VK_DHT4A',\n",
       " 'D19_SONSTIGE',\n",
       " 'KOMBIALTER',\n",
       " 'D19_TELKO_ONLINE_QUOTE_12',\n",
       " 'KBA13_ANTG4',\n",
       " 'D19_KOSMETIK',\n",
       " 'D19_KONSUMTYP_MAX',\n",
       " 'D19_REISEN',\n",
       " 'KBA13_CCM_1401_2500',\n",
       " 'D19_DIGIT_SERV',\n",
       " 'D19_LOTTO',\n",
       " 'CJT_TYP_6',\n",
       " 'CJT_TYP_2',\n",
       " 'D19_VOLLSORTIMENT',\n",
       " 'CJT_TYP_3',\n",
       " 'VK_DISTANZ',\n",
       " 'CAMEO_INTL_2015',\n",
       " 'D19_GARTEN',\n",
       " 'VERDICHTUNGSRAUM',\n",
       " 'D19_KINDERARTIKEL',\n",
       " 'D19_LETZTER_KAUF_BRANCHE',\n",
       " 'D19_TIERARTIKEL',\n",
       " 'ANZ_KINDER',\n",
       " 'KBA13_HHZ',\n",
       " 'ALTERSKATEGORIE_FEIN',\n",
       " 'CJT_KATALOGNUTZER']"
      ]
     },
     "execution_count": 23,
     "metadata": {},
     "output_type": "execute_result"
    }
   ],
   "source": [
    "list(set(azdias_clean.columns.tolist()) - set(unique_atrributes))\n",
    "#sorted(azdias_clean.columns.tolist())"
   ]
  },
  {
   "cell_type": "code",
   "execution_count": 8,
   "metadata": {},
   "outputs": [
    {
     "data": {
      "text/plain": [
       "0         252\n",
       "1          15\n",
       "2           5\n",
       "3           7\n",
       "4           5\n",
       "         ... \n",
       "891216     11\n",
       "891217      6\n",
       "891218      8\n",
       "891219      4\n",
       "891220     16\n",
       "Length: 891221, dtype: int64"
      ]
     },
     "execution_count": 8,
     "metadata": {},
     "output_type": "execute_result"
    }
   ],
   "source": [
    "azdias.isnull().sum(axis=1)"
   ]
  },
  {
   "cell_type": "markdown",
   "metadata": {},
   "source": [
    "Here we create function to clean the data that we can reuse for all the following tasks"
   ]
  },
  {
   "cell_type": "code",
   "execution_count": 2,
   "metadata": {},
   "outputs": [],
   "source": [
    "def clean_data(df, drop_rows=True):\n",
    "    # create copy of df\n",
    "    df = df.drop(['D19_LETZTER_KAUF_BRANCHE'],axis=1)\n",
    "    df = df.drop(['EINGEFUEGT_AM'],axis=1)\n",
    "    #df = df[df.isnull().sum(axis=1) <= 16].reset_index(drop=True)\n",
    "\n",
    "    # This part converts types of columns 18 and 19 of azias and coustomers df \n",
    "    # from float to int and from string to NAN\n",
    "    col_names = df.iloc[:,18:20].columns\n",
    "    df[col_names] = df[col_names].replace({'X': -1, 'XX': -1})    \n",
    "    #df_copy[col_names[0]] = pd.to_numeric(df_copy[col_names[0]], downcast=\"float\")\n",
    "    #df_copy[col_names[1]] = pd.to_numeric(df_copy[col_names[1]], downcast=\"float\")\n",
    "    df[col_names] = df[col_names].fillna(-1)\n",
    "    df[col_names] = df[col_names].astype(int)\n",
    "    df[['OST_WEST_KZ', 'CAMEO_DEU_2015']] = df[['OST_WEST_KZ', 'CAMEO_DEU_2015']].fillna(-1)\n",
    "    #df_copy[['OST_WEST_KZ', 'CAMEO_DEU_2015']] df df_copy[['OST_WEST_KZ', 'CAMEO_DEU_2015']].astype(int)\n",
    "    df[['OST_WEST_KZ', 'CAMEO_DEU_2015']] = df[['OST_WEST_KZ', 'CAMEO_DEU_2015']].fillna(-1)\n",
    "\n",
    "    print(\"df columns 18 and 19 converted to float\")\n",
    "    print(\"shape is: \", df.shape)\n",
    "    # drop all columns with more than 40 percent missing values\n",
    "    drop_col = df.columns[df.isnull().mean()>0.4]\n",
    "    df = df.drop(drop_col, axis=1)\n",
    "    print(\"df columns with more than 40 percent missing values dropped\")\n",
    "    print(\"dropped columns are: \", drop_col)\n",
    "    print(\"shape is: \", df.shape)\n",
    "    #drop rows with more than 25 missing \n",
    "    if(drop_rows):\n",
    "        df = df.dropna(thresh=df.shape[1]-25)\n",
    "    print(\"df rows with 25 missing values dropped\")\n",
    "    print(\"shape is: \", df.shape)\n",
    "    # Create correlation matrix\n",
    "    corr_matrix = df.corr().abs()\n",
    "    # Select upper triangle of correlation matrix\n",
    "    upper = corr_matrix.where(np.triu(np.ones(corr_matrix.shape), k=1).astype(np.bool))\n",
    "    # Find features with correlation greater than 0.8\n",
    "    to_drop = [column for column in upper.columns if any(upper[column] > 0.7)]\n",
    "    # drop columns with high correlation \n",
    "    df = df.drop(to_drop, axis=1)\n",
    "    print(\"columns with correlation more than 0.7 are dropped\")\n",
    "    \n",
    "    # this is just for the costumer df \n",
    "    list_cost_col = ['CUSTOMER_GROUP', 'ONLINE_PURCHASE', 'PRODUCT_GROUP']\n",
    "    for col in list_cost_col:\n",
    "        if col in df.columns:\n",
    "            df = df.drop([col], inplace=False, axis=1)\n",
    "        print(\"this columns from customer df are dropped: \", ['CUSTOMER_GROUP', 'ONLINE_PURCHASE', 'PRODUCT_GROUP'])\n",
    "        print(\"shape is: \", df.shape)\n",
    "    \n",
    "    #fill object with dummies\n",
    "    df = pd.get_dummies(df)\n",
    "\n",
    "    columns_df = list(df.columns.values)\n",
    "\n",
    "    #imputing the nan value with mode\n",
    "    print('Imputing nan values with mode')\n",
    "    mode_imputer = SimpleImputer(missing_values=np.nan,strategy='most_frequent')\n",
    "    #mode_imputer = mode_imputer.fit(data_df)\n",
    "    df = mode_imputer.fit_transform(df)\n",
    "    df = pd.DataFrame(df)\n",
    "    print('shape after imputing the values', df.shape)\n",
    "\n",
    "    #converting all values in df to int\n",
    "    df = df.astype(int)\n",
    "    \n",
    "    # normalize df\n",
    "    normalize = StandardScaler(copy=False).fit_transform(df)\n",
    "    df = pd.DataFrame(normalize,columns= columns_df)\n",
    "    print('Shape after normalising' , df.shape)\n",
    "        \n",
    "    df = df.set_index('LNR')\n",
    "\n",
    "    return df"
   ]
  },
  {
   "cell_type": "code",
   "execution_count": 8,
   "metadata": {},
   "outputs": [
    {
     "name": "stdout",
     "output_type": "stream",
     "text": [
      "df columns 18 and 19 converted to float\n",
      "shape is:  (891221, 364)\n",
      "df columns with more than 40 percent missing values dropped\n",
      "dropped columns are:  Index(['ALTER_KIND1', 'ALTER_KIND2', 'ALTER_KIND3', 'ALTER_KIND4', 'EXTSEL992',\n",
      "       'KK_KUNDENTYP'],\n",
      "      dtype='object')\n",
      "shape is:  (891221, 358)\n",
      "df rows with 25 missing values dropped\n",
      "shape is:  (750582, 358)\n",
      "columns with correlation more than 0.7 are dropped\n",
      "this columns from customer df are dropped:  ['CUSTOMER_GROUP', 'ONLINE_PURCHASE', 'PRODUCT_GROUP']\n",
      "shape is:  (750582, 236)\n",
      "this columns from customer df are dropped:  ['CUSTOMER_GROUP', 'ONLINE_PURCHASE', 'PRODUCT_GROUP']\n",
      "shape is:  (750582, 236)\n",
      "this columns from customer df are dropped:  ['CUSTOMER_GROUP', 'ONLINE_PURCHASE', 'PRODUCT_GROUP']\n",
      "shape is:  (750582, 236)\n",
      "Imputing nan values with mode\n",
      "shape after imputing the values (750582, 282)\n",
      "Shape after normalising (750582, 282)\n"
     ]
    }
   ],
   "source": [
    "azdias_clean = clean_data(azdias)"
   ]
  },
  {
   "cell_type": "code",
   "execution_count": 3,
   "metadata": {},
   "outputs": [],
   "source": [
    "#azdias_clean.to_pickle(\"./azdias_clean.pkl\")\n",
    "azdias_clean = pd.read_pickle(\"./azdias_clean.pkl\")"
   ]
  },
  {
   "cell_type": "code",
   "execution_count": 7,
   "metadata": {},
   "outputs": [
    {
     "name": "stdout",
     "output_type": "stream",
     "text": [
      "df columns 18 and 19 converted to float\n",
      "shape is:  (191652, 367)\n",
      "df columns with more than 40 percent missing values dropped\n",
      "dropped columns are:  Index(['ALTER_KIND1', 'ALTER_KIND2', 'ALTER_KIND3', 'ALTER_KIND4', 'EXTSEL992',\n",
      "       'KK_KUNDENTYP'],\n",
      "      dtype='object')\n",
      "shape is:  (191652, 361)\n",
      "df rows with 25 missing values dropped\n",
      "shape is:  (135043, 361)\n",
      "columns with correlation more than 0.7 are dropped\n",
      "this columns from customer df are dropped:  ['CUSTOMER_GROUP', 'ONLINE_PURCHASE', 'PRODUCT_GROUP']\n",
      "shape is:  (135043, 265)\n",
      "this columns from customer df are dropped:  ['CUSTOMER_GROUP', 'ONLINE_PURCHASE', 'PRODUCT_GROUP']\n",
      "shape is:  (135043, 264)\n",
      "this columns from customer df are dropped:  ['CUSTOMER_GROUP', 'ONLINE_PURCHASE', 'PRODUCT_GROUP']\n",
      "shape is:  (135043, 263)\n",
      "Imputing nan values with mode\n",
      "shape after imputing the values (135043, 309)\n",
      "Shape after normalising (135043, 309)\n"
     ]
    }
   ],
   "source": [
    "customers_clean = clean_data(customers)\n",
    "#customers_clean = customers_clean.drop(['CUSTOMER_GROUP', 'ONLINE_PURCHASE', 'PRODUCT_GROUP'], inplace=False, axis=1)\n"
   ]
  },
  {
   "cell_type": "code",
   "execution_count": null,
   "metadata": {},
   "outputs": [],
   "source": [
    "#customers_clean.to_pickle(\"./customers_clean.pkl\")\n",
    "customers_clean = pd.read_pickle(\"./customers_clean.pkl\")"
   ]
  },
  {
   "cell_type": "markdown",
   "metadata": {},
   "source": [
    "## Part 1: Customer Segmentation Report\n",
    "\n",
    "The main bulk of your analysis will come in this part of the project. Here, you should use unsupervised learning techniques to describe the relationship between the demographics of the company's existing customers and the general population of Germany. By the end of this part, you should be able to describe parts of the general population that are more likely to be part of the mail-order company's main customer base, and which parts of the general population are less so."
   ]
  },
  {
   "cell_type": "markdown",
   "metadata": {},
   "source": [
    "With pca we are able to reduce the dimension of data and with the explained variance we are able to reduce compents but to keep the informations with high variance."
   ]
  },
  {
   "cell_type": "code",
   "execution_count": 4,
   "metadata": {},
   "outputs": [
    {
     "data": {
      "image/png": "[encoded data removed]",
      "text/plain": [
       "<Figure size 1080x720 with 1 Axes>"
      ]
     },
     "metadata": {
      "needs_background": "light"
     },
     "output_type": "display_data"
    }
   ],
   "source": [
    "#graph for pca\n",
    "plt.figure(figsize=(15,10))\n",
    "pca_df = PCA().fit(azdias_clean)\n",
    "plt.plot(np.cumsum(pca_df.explained_variance_ratio_))\n",
    "plt.bar(range(0,len(pca_df.explained_variance_ratio_)), pca_df.explained_variance_ratio_)\n",
    "\n",
    "plt.xlabel('Principal Component')\n",
    "plt.title(\"Explained Variance Per Principal Component\")\n",
    "plt.ylabel('Cumulative Variance')\n",
    "plt.show()"
   ]
  },
  {
   "cell_type": "markdown",
   "metadata": {},
   "source": [
    "Here we see a flattern curve at 200 components, So we will keep them with a high variance."
   ]
  },
  {
   "cell_type": "code",
   "execution_count": 8,
   "metadata": {},
   "outputs": [],
   "source": [
    "#reduce data on dataset azdias\n",
    "pca = PCA(n_components=200)\n",
    "azdias_pca = pca.fit_transform(azdias_clean)"
   ]
  },
  {
   "cell_type": "code",
   "execution_count": 11,
   "metadata": {},
   "outputs": [],
   "source": [
    "#reduce data on dataset customers\n",
    "customers_pca = pca.fit_transform(customers_clean)"
   ]
  },
  {
   "cell_type": "markdown",
   "metadata": {},
   "source": [
    "We want to the sum of the squared differences for different number of clusters to chose a number of clusters"
   ]
  },
  {
   "cell_type": "code",
   "execution_count": 7,
   "metadata": {},
   "outputs": [],
   "source": [
    "#Clustering\n",
    "cluster_number = []\n",
    "score_k_mean =[]\n",
    "for cluster_nr in range(1,20,1):\n",
    "    k_mean = KMeans(cluster_nr)\n",
    "    model_k_mean = k_mean.fit(azdias_pca)\n",
    "    score_k_mean.append(np.abs(model_k_mean.score(azdias_pca)))\n",
    "    cluster_number.append(cluster_nr)"
   ]
  },
  {
   "cell_type": "code",
   "execution_count": 8,
   "metadata": {},
   "outputs": [
    {
     "data": {
      "image/png": "[encoded data removed]",
      "text/plain": [
       "<Figure size 1080x720 with 1 Axes>"
      ]
     },
     "metadata": {
      "needs_background": "light"
     },
     "output_type": "display_data"
    }
   ],
   "source": [
    "plt.figure(figsize=(15,10))\n",
    "plt.plot(cluster_number, score_k_mean, linestyle='-', marker='o')\n",
    "plt.xticks(list(range(1,20,1)))\n",
    "plt.xlabel('Cluster number')\n",
    "plt.ylabel('Within-Custer Distance')\n",
    "plt.title('Within-Custer Distance vs. Cluster number');\n",
    "\n"
   ]
  },
  {
   "cell_type": "markdown",
   "metadata": {},
   "source": [
    "Because at cluster number 11 the curve flatterns, we will build 11 clusters"
   ]
  },
  {
   "cell_type": "code",
   "execution_count": 9,
   "metadata": {},
   "outputs": [],
   "source": [
    "#create model with 11 clusters\n",
    "kmeans = KMeans(n_clusters = 11)\n",
    "kmeans_model = kmeans.fit(azdias_pca)\n",
    "azdias_prediction = kmeans_model.predict(azdias_pca)"
   ]
  },
  {
   "cell_type": "code",
   "execution_count": 12,
   "metadata": {},
   "outputs": [],
   "source": [
    "customers_prediction = kmeans_model.predict(customers_pca)"
   ]
  },
  {
   "cell_type": "code",
   "execution_count": 23,
   "metadata": {},
   "outputs": [],
   "source": [
    "#compare clusters\n",
    "df_cluster_customer = pd.Series(customers_prediction)\n",
    "df_cluster_gp = pd.Series(azdias_prediction)"
   ]
  },
  {
   "cell_type": "code",
   "execution_count": 38,
   "metadata": {},
   "outputs": [],
   "source": [
    "#get values of each cluster and sort the df for comparing\n",
    "value_cluster_customer = df_cluster_customer.value_counts().sort_index()\n",
    "value_cluster_customer.rename ='values of customers'\n",
    "value_cluster_gp = df_cluster_gp.value_counts().sort_index()\n",
    "value_cluster_gp.rename ='values of gp'"
   ]
  },
  {
   "cell_type": "code",
   "execution_count": 43,
   "metadata": {},
   "outputs": [
    {
     "data": {
      "text/html": [
       "<div>\n",
       "<style scoped>\n",
       "    .dataframe tbody tr th:only-of-type {\n",
       "        vertical-align: middle;\n",
       "    }\n",
       "\n",
       "    .dataframe tbody tr th {\n",
       "        vertical-align: top;\n",
       "    }\n",
       "\n",
       "    .dataframe thead th {\n",
       "        text-align: right;\n",
       "    }\n",
       "</style>\n",
       "<table border=\"1\" class=\"dataframe\">\n",
       "  <thead>\n",
       "    <tr style=\"text-align: right;\">\n",
       "      <th></th>\n",
       "      <th>values of customers</th>\n",
       "      <th>values of gp</th>\n",
       "      <th>difference</th>\n",
       "    </tr>\n",
       "    <tr>\n",
       "      <th>Cluster Number</th>\n",
       "      <th></th>\n",
       "      <th></th>\n",
       "      <th></th>\n",
       "    </tr>\n",
       "  </thead>\n",
       "  <tbody>\n",
       "    <tr>\n",
       "      <th>0</th>\n",
       "      <td>18543</td>\n",
       "      <td>103726</td>\n",
       "      <td>-0.088228</td>\n",
       "    </tr>\n",
       "    <tr>\n",
       "      <th>1</th>\n",
       "      <td>1225</td>\n",
       "      <td>49493</td>\n",
       "      <td>-5.686831</td>\n",
       "    </tr>\n",
       "    <tr>\n",
       "      <th>2</th>\n",
       "      <td>17022</td>\n",
       "      <td>75904</td>\n",
       "      <td>2.492188</td>\n",
       "    </tr>\n",
       "    <tr>\n",
       "      <th>3</th>\n",
       "      <td>44</td>\n",
       "      <td>14024</td>\n",
       "      <td>-1.835835</td>\n",
       "    </tr>\n",
       "    <tr>\n",
       "      <th>4</th>\n",
       "      <td>2154</td>\n",
       "      <td>51061</td>\n",
       "      <td>-5.207807</td>\n",
       "    </tr>\n",
       "    <tr>\n",
       "      <th>5</th>\n",
       "      <td>9091</td>\n",
       "      <td>63428</td>\n",
       "      <td>-1.718579</td>\n",
       "    </tr>\n",
       "    <tr>\n",
       "      <th>6</th>\n",
       "      <td>20042</td>\n",
       "      <td>81830</td>\n",
       "      <td>3.938992</td>\n",
       "    </tr>\n",
       "    <tr>\n",
       "      <th>7</th>\n",
       "      <td>4751</td>\n",
       "      <td>61507</td>\n",
       "      <td>-4.676436</td>\n",
       "    </tr>\n",
       "    <tr>\n",
       "      <th>8</th>\n",
       "      <td>32125</td>\n",
       "      <td>93413</td>\n",
       "      <td>11.343310</td>\n",
       "    </tr>\n",
       "    <tr>\n",
       "      <th>9</th>\n",
       "      <td>14583</td>\n",
       "      <td>73631</td>\n",
       "      <td>0.988928</td>\n",
       "    </tr>\n",
       "    <tr>\n",
       "      <th>10</th>\n",
       "      <td>15463</td>\n",
       "      <td>82565</td>\n",
       "      <td>0.450296</td>\n",
       "    </tr>\n",
       "  </tbody>\n",
       "</table>\n",
       "</div>"
      ],
      "text/plain": [
       "                values of customers  values of gp  difference\n",
       "Cluster Number                                               \n",
       "0                             18543        103726   -0.088228\n",
       "1                              1225         49493   -5.686831\n",
       "2                             17022         75904    2.492188\n",
       "3                                44         14024   -1.835835\n",
       "4                              2154         51061   -5.207807\n",
       "5                              9091         63428   -1.718579\n",
       "6                             20042         81830    3.938992\n",
       "7                              4751         61507   -4.676436\n",
       "8                             32125         93413   11.343310\n",
       "9                             14583         73631    0.988928\n",
       "10                            15463         82565    0.450296"
      ]
     },
     "execution_count": 43,
     "metadata": {},
     "output_type": "execute_result"
    }
   ],
   "source": [
    "# Compare the cluster distribution between general population and customers\n",
    "df_gp_customers_value = pd.concat([value_cluster_customer, value_cluster_gp], axis=1)\n",
    "df_gp_customers_value.columns = ['values of customers', 'values of gp']\n",
    "df_gp_customers_value.index.names = ['Cluster Number']\n",
    "df_gp_customers_value['difference'] = (df_gp_customers_value['values of customers']/df_gp_customers_value['values of customers'].sum()*100)- (df_gp_customers_value['values of gp']/df_gp_customers_value['values of gp'].sum()*100)\n",
    "df_gp_customers_value"
   ]
  },
  {
   "cell_type": "code",
   "execution_count": 48,
   "metadata": {},
   "outputs": [
    {
     "data": {
      "text/plain": [
       "<matplotlib.legend.Legend at 0x7f7cf542c1c0>"
      ]
     },
     "execution_count": 48,
     "metadata": {},
     "output_type": "execute_result"
    },
    {
     "data": {
      "image/png": "[encoded data removed]",
      "text/plain": [
       "<Figure size 1080x720 with 1 Axes>"
      ]
     },
     "metadata": {
      "needs_background": "light"
     },
     "output_type": "display_data"
    }
   ],
   "source": [
    "# plot Proportion of customer on all customers and general population on all gps\n",
    "\n",
    "labels = df_gp_customers_value.index.tolist()\n",
    "customer_values = (df_gp_customers_value['values of customers']/df_gp_customers_value['values of customers'].sum()*100).tolist()\n",
    "gp_values = (df_gp_customers_value['values of gp']/df_gp_customers_value['values of gp'].sum()*100).tolist()\n",
    "\n",
    "x = np.arange(len(labels))  # the label locations\n",
    "width = 0.2  # the width of the bars\n",
    "\n",
    "fig, ax = plt.subplots(figsize=(15,10))\n",
    "rects1 = ax.bar(x - width/2, customer_values, width, label='Customer')\n",
    "rects2 = ax.bar(x + width/2, gp_values, width, label='General Population')\n",
    "\n",
    "# Add some text for labels, title and custom x-axis tick labels, etc.\n",
    "ax.set_ylabel('Ratio in %')\n",
    "ax.set_xlabel('Cluster No.')\n",
    "\n",
    "ax.set_title('Proportion of customer on all customers and general population on all gps')\n",
    "ax.set_xticks(x)\n",
    "ax.set_xticklabels(labels)\n",
    "ax.legend()"
   ]
  },
  {
   "cell_type": "markdown",
   "metadata": {},
   "source": [
    "The difference between customers and general population is largest in clusters 8, and lowest in clusters 1."
   ]
  },
  {
   "cell_type": "code",
   "execution_count": 62,
   "metadata": {},
   "outputs": [],
   "source": [
    "azdias_pca_ = pca.fit(azdias_clean)\n",
    "explained_variance_ratio = pd.DataFrame(azdias_pca_.explained_variance_ratio_,columns = ['EXPLAINED_VARIANCE'])"
   ]
  },
  {
   "cell_type": "code",
   "execution_count": 68,
   "metadata": {},
   "outputs": [
    {
     "data": {
      "text/html": [
       "<div>\n",
       "<style scoped>\n",
       "    .dataframe tbody tr th:only-of-type {\n",
       "        vertical-align: middle;\n",
       "    }\n",
       "\n",
       "    .dataframe tbody tr th {\n",
       "        vertical-align: top;\n",
       "    }\n",
       "\n",
       "    .dataframe thead th {\n",
       "        text-align: right;\n",
       "    }\n",
       "</style>\n",
       "<table border=\"1\" class=\"dataframe\">\n",
       "  <thead>\n",
       "    <tr style=\"text-align: right;\">\n",
       "      <th></th>\n",
       "      <th>EXPLAINED_VARIANCE</th>\n",
       "      <th>AGER_TYP</th>\n",
       "      <th>AKT_DAT_KL</th>\n",
       "      <th>ALTER_HH</th>\n",
       "      <th>ALTERSKATEGORIE_FEIN</th>\n",
       "      <th>ANZ_HAUSHALTE_AKTIV</th>\n",
       "      <th>ANZ_HH_TITEL</th>\n",
       "      <th>ANZ_KINDER</th>\n",
       "      <th>ANZ_PERSONEN</th>\n",
       "      <th>ANZ_TITEL</th>\n",
       "      <th>...</th>\n",
       "      <th>CAMEO_DEU_2015_8C</th>\n",
       "      <th>CAMEO_DEU_2015_8D</th>\n",
       "      <th>CAMEO_DEU_2015_9A</th>\n",
       "      <th>CAMEO_DEU_2015_9B</th>\n",
       "      <th>CAMEO_DEU_2015_9C</th>\n",
       "      <th>CAMEO_DEU_2015_9D</th>\n",
       "      <th>CAMEO_DEU_2015_9E</th>\n",
       "      <th>CAMEO_DEU_2015_XX</th>\n",
       "      <th>OST_WEST_KZ_O</th>\n",
       "      <th>OST_WEST_KZ_W</th>\n",
       "    </tr>\n",
       "  </thead>\n",
       "  <tbody>\n",
       "    <tr>\n",
       "      <th>0</th>\n",
       "      <td>0.055246</td>\n",
       "      <td>-0.033882</td>\n",
       "      <td>0.086904</td>\n",
       "      <td>-0.056877</td>\n",
       "      <td>0.022502</td>\n",
       "      <td>0.101430</td>\n",
       "      <td>0.018952</td>\n",
       "      <td>-0.038179</td>\n",
       "      <td>-0.101980</td>\n",
       "      <td>-0.006994</td>\n",
       "      <td>...</td>\n",
       "      <td>0.035309</td>\n",
       "      <td>0.032640</td>\n",
       "      <td>0.030560</td>\n",
       "      <td>0.057640</td>\n",
       "      <td>0.053880</td>\n",
       "      <td>0.052873</td>\n",
       "      <td>0.027313</td>\n",
       "      <td>-0.002449</td>\n",
       "      <td>0.084582</td>\n",
       "      <td>-0.084582</td>\n",
       "    </tr>\n",
       "    <tr>\n",
       "      <th>1</th>\n",
       "      <td>0.046956</td>\n",
       "      <td>0.016259</td>\n",
       "      <td>-0.000553</td>\n",
       "      <td>-0.025024</td>\n",
       "      <td>-0.031942</td>\n",
       "      <td>0.018531</td>\n",
       "      <td>0.015894</td>\n",
       "      <td>-0.010552</td>\n",
       "      <td>-0.003834</td>\n",
       "      <td>0.005421</td>\n",
       "      <td>...</td>\n",
       "      <td>-0.022388</td>\n",
       "      <td>-0.011057</td>\n",
       "      <td>-0.017901</td>\n",
       "      <td>-0.015075</td>\n",
       "      <td>-0.002583</td>\n",
       "      <td>-0.010324</td>\n",
       "      <td>0.051642</td>\n",
       "      <td>0.000713</td>\n",
       "      <td>-0.039696</td>\n",
       "      <td>0.039696</td>\n",
       "    </tr>\n",
       "    <tr>\n",
       "      <th>2</th>\n",
       "      <td>0.040568</td>\n",
       "      <td>0.026821</td>\n",
       "      <td>-0.057217</td>\n",
       "      <td>0.040536</td>\n",
       "      <td>-0.011306</td>\n",
       "      <td>-0.042702</td>\n",
       "      <td>-0.032507</td>\n",
       "      <td>0.023381</td>\n",
       "      <td>0.066106</td>\n",
       "      <td>-0.010254</td>\n",
       "      <td>...</td>\n",
       "      <td>0.021374</td>\n",
       "      <td>0.019499</td>\n",
       "      <td>-0.001264</td>\n",
       "      <td>0.006550</td>\n",
       "      <td>-0.021860</td>\n",
       "      <td>-0.021027</td>\n",
       "      <td>0.001158</td>\n",
       "      <td>0.000305</td>\n",
       "      <td>0.131716</td>\n",
       "      <td>-0.131716</td>\n",
       "    </tr>\n",
       "    <tr>\n",
       "      <th>3</th>\n",
       "      <td>0.031782</td>\n",
       "      <td>-0.164566</td>\n",
       "      <td>0.051808</td>\n",
       "      <td>0.124523</td>\n",
       "      <td>0.211277</td>\n",
       "      <td>0.002930</td>\n",
       "      <td>-0.015704</td>\n",
       "      <td>0.104707</td>\n",
       "      <td>0.074093</td>\n",
       "      <td>-0.011198</td>\n",
       "      <td>...</td>\n",
       "      <td>-0.010386</td>\n",
       "      <td>-0.039980</td>\n",
       "      <td>0.024954</td>\n",
       "      <td>0.017953</td>\n",
       "      <td>0.022122</td>\n",
       "      <td>0.013927</td>\n",
       "      <td>-0.023688</td>\n",
       "      <td>0.000369</td>\n",
       "      <td>-0.053171</td>\n",
       "      <td>0.053171</td>\n",
       "    </tr>\n",
       "    <tr>\n",
       "      <th>4</th>\n",
       "      <td>0.025460</td>\n",
       "      <td>0.069443</td>\n",
       "      <td>-0.103693</td>\n",
       "      <td>0.086972</td>\n",
       "      <td>-0.011038</td>\n",
       "      <td>0.064741</td>\n",
       "      <td>0.036772</td>\n",
       "      <td>0.034827</td>\n",
       "      <td>0.107142</td>\n",
       "      <td>0.016522</td>\n",
       "      <td>...</td>\n",
       "      <td>0.022737</td>\n",
       "      <td>0.036666</td>\n",
       "      <td>0.002065</td>\n",
       "      <td>0.019205</td>\n",
       "      <td>0.014293</td>\n",
       "      <td>0.013700</td>\n",
       "      <td>0.018010</td>\n",
       "      <td>-0.001105</td>\n",
       "      <td>0.103053</td>\n",
       "      <td>-0.103053</td>\n",
       "    </tr>\n",
       "    <tr>\n",
       "      <th>...</th>\n",
       "      <td>...</td>\n",
       "      <td>...</td>\n",
       "      <td>...</td>\n",
       "      <td>...</td>\n",
       "      <td>...</td>\n",
       "      <td>...</td>\n",
       "      <td>...</td>\n",
       "      <td>...</td>\n",
       "      <td>...</td>\n",
       "      <td>...</td>\n",
       "      <td>...</td>\n",
       "      <td>...</td>\n",
       "      <td>...</td>\n",
       "      <td>...</td>\n",
       "      <td>...</td>\n",
       "      <td>...</td>\n",
       "      <td>...</td>\n",
       "      <td>...</td>\n",
       "      <td>...</td>\n",
       "      <td>...</td>\n",
       "      <td>...</td>\n",
       "    </tr>\n",
       "    <tr>\n",
       "      <th>195</th>\n",
       "      <td>0.001586</td>\n",
       "      <td>0.131717</td>\n",
       "      <td>-0.005761</td>\n",
       "      <td>-0.268033</td>\n",
       "      <td>0.060825</td>\n",
       "      <td>0.085927</td>\n",
       "      <td>-0.031769</td>\n",
       "      <td>-0.076795</td>\n",
       "      <td>0.046042</td>\n",
       "      <td>-0.041970</td>\n",
       "      <td>...</td>\n",
       "      <td>-0.020113</td>\n",
       "      <td>0.004993</td>\n",
       "      <td>-0.008175</td>\n",
       "      <td>-0.036712</td>\n",
       "      <td>-0.008947</td>\n",
       "      <td>0.008479</td>\n",
       "      <td>0.006492</td>\n",
       "      <td>0.000388</td>\n",
       "      <td>0.022817</td>\n",
       "      <td>-0.022817</td>\n",
       "    </tr>\n",
       "    <tr>\n",
       "      <th>196</th>\n",
       "      <td>0.001564</td>\n",
       "      <td>-0.040676</td>\n",
       "      <td>-0.049242</td>\n",
       "      <td>0.076116</td>\n",
       "      <td>-0.023362</td>\n",
       "      <td>0.009874</td>\n",
       "      <td>-0.004921</td>\n",
       "      <td>0.030918</td>\n",
       "      <td>0.041577</td>\n",
       "      <td>-0.029233</td>\n",
       "      <td>...</td>\n",
       "      <td>-0.020666</td>\n",
       "      <td>-0.010025</td>\n",
       "      <td>-0.021323</td>\n",
       "      <td>-0.029231</td>\n",
       "      <td>0.010044</td>\n",
       "      <td>0.022013</td>\n",
       "      <td>-0.020529</td>\n",
       "      <td>0.000050</td>\n",
       "      <td>0.028823</td>\n",
       "      <td>-0.028823</td>\n",
       "    </tr>\n",
       "    <tr>\n",
       "      <th>197</th>\n",
       "      <td>0.001542</td>\n",
       "      <td>-0.086913</td>\n",
       "      <td>0.046104</td>\n",
       "      <td>0.070739</td>\n",
       "      <td>-0.049866</td>\n",
       "      <td>0.098746</td>\n",
       "      <td>-0.056029</td>\n",
       "      <td>0.064033</td>\n",
       "      <td>-0.019183</td>\n",
       "      <td>0.047423</td>\n",
       "      <td>...</td>\n",
       "      <td>0.028306</td>\n",
       "      <td>-0.003517</td>\n",
       "      <td>0.033562</td>\n",
       "      <td>0.024539</td>\n",
       "      <td>-0.016046</td>\n",
       "      <td>-0.031211</td>\n",
       "      <td>-0.020324</td>\n",
       "      <td>-0.000816</td>\n",
       "      <td>-0.007430</td>\n",
       "      <td>0.007430</td>\n",
       "    </tr>\n",
       "    <tr>\n",
       "      <th>198</th>\n",
       "      <td>0.001512</td>\n",
       "      <td>0.068446</td>\n",
       "      <td>-0.016054</td>\n",
       "      <td>-0.154381</td>\n",
       "      <td>-0.007705</td>\n",
       "      <td>0.291113</td>\n",
       "      <td>-0.148549</td>\n",
       "      <td>-0.088994</td>\n",
       "      <td>0.074319</td>\n",
       "      <td>-0.037385</td>\n",
       "      <td>...</td>\n",
       "      <td>0.026677</td>\n",
       "      <td>-0.004198</td>\n",
       "      <td>0.023862</td>\n",
       "      <td>0.030397</td>\n",
       "      <td>-0.013191</td>\n",
       "      <td>-0.023056</td>\n",
       "      <td>-0.016447</td>\n",
       "      <td>-0.000146</td>\n",
       "      <td>-0.014995</td>\n",
       "      <td>0.014995</td>\n",
       "    </tr>\n",
       "    <tr>\n",
       "      <th>199</th>\n",
       "      <td>0.001489</td>\n",
       "      <td>-0.036641</td>\n",
       "      <td>-0.085562</td>\n",
       "      <td>-0.023804</td>\n",
       "      <td>0.018250</td>\n",
       "      <td>0.381755</td>\n",
       "      <td>-0.197656</td>\n",
       "      <td>-0.003231</td>\n",
       "      <td>0.075964</td>\n",
       "      <td>-0.005090</td>\n",
       "      <td>...</td>\n",
       "      <td>-0.038709</td>\n",
       "      <td>-0.035549</td>\n",
       "      <td>-0.012611</td>\n",
       "      <td>-0.018644</td>\n",
       "      <td>0.006274</td>\n",
       "      <td>-0.004224</td>\n",
       "      <td>-0.034980</td>\n",
       "      <td>-0.001028</td>\n",
       "      <td>-0.040901</td>\n",
       "      <td>0.040901</td>\n",
       "    </tr>\n",
       "  </tbody>\n",
       "</table>\n",
       "<p>200 rows × 282 columns</p>\n",
       "</div>"
      ],
      "text/plain": [
       "     EXPLAINED_VARIANCE  AGER_TYP  AKT_DAT_KL  ALTER_HH  ALTERSKATEGORIE_FEIN  \\\n",
       "0              0.055246 -0.033882    0.086904 -0.056877              0.022502   \n",
       "1              0.046956  0.016259   -0.000553 -0.025024             -0.031942   \n",
       "2              0.040568  0.026821   -0.057217  0.040536             -0.011306   \n",
       "3              0.031782 -0.164566    0.051808  0.124523              0.211277   \n",
       "4              0.025460  0.069443   -0.103693  0.086972             -0.011038   \n",
       "..                  ...       ...         ...       ...                   ...   \n",
       "195            0.001586  0.131717   -0.005761 -0.268033              0.060825   \n",
       "196            0.001564 -0.040676   -0.049242  0.076116             -0.023362   \n",
       "197            0.001542 -0.086913    0.046104  0.070739             -0.049866   \n",
       "198            0.001512  0.068446   -0.016054 -0.154381             -0.007705   \n",
       "199            0.001489 -0.036641   -0.085562 -0.023804              0.018250   \n",
       "\n",
       "     ANZ_HAUSHALTE_AKTIV  ANZ_HH_TITEL  ANZ_KINDER  ANZ_PERSONEN  ANZ_TITEL  \\\n",
       "0               0.101430      0.018952   -0.038179     -0.101980  -0.006994   \n",
       "1               0.018531      0.015894   -0.010552     -0.003834   0.005421   \n",
       "2              -0.042702     -0.032507    0.023381      0.066106  -0.010254   \n",
       "3               0.002930     -0.015704    0.104707      0.074093  -0.011198   \n",
       "4               0.064741      0.036772    0.034827      0.107142   0.016522   \n",
       "..                   ...           ...         ...           ...        ...   \n",
       "195             0.085927     -0.031769   -0.076795      0.046042  -0.041970   \n",
       "196             0.009874     -0.004921    0.030918      0.041577  -0.029233   \n",
       "197             0.098746     -0.056029    0.064033     -0.019183   0.047423   \n",
       "198             0.291113     -0.148549   -0.088994      0.074319  -0.037385   \n",
       "199             0.381755     -0.197656   -0.003231      0.075964  -0.005090   \n",
       "\n",
       "     ...  CAMEO_DEU_2015_8C  CAMEO_DEU_2015_8D  CAMEO_DEU_2015_9A  \\\n",
       "0    ...           0.035309           0.032640           0.030560   \n",
       "1    ...          -0.022388          -0.011057          -0.017901   \n",
       "2    ...           0.021374           0.019499          -0.001264   \n",
       "3    ...          -0.010386          -0.039980           0.024954   \n",
       "4    ...           0.022737           0.036666           0.002065   \n",
       "..   ...                ...                ...                ...   \n",
       "195  ...          -0.020113           0.004993          -0.008175   \n",
       "196  ...          -0.020666          -0.010025          -0.021323   \n",
       "197  ...           0.028306          -0.003517           0.033562   \n",
       "198  ...           0.026677          -0.004198           0.023862   \n",
       "199  ...          -0.038709          -0.035549          -0.012611   \n",
       "\n",
       "     CAMEO_DEU_2015_9B  CAMEO_DEU_2015_9C  CAMEO_DEU_2015_9D  \\\n",
       "0             0.057640           0.053880           0.052873   \n",
       "1            -0.015075          -0.002583          -0.010324   \n",
       "2             0.006550          -0.021860          -0.021027   \n",
       "3             0.017953           0.022122           0.013927   \n",
       "4             0.019205           0.014293           0.013700   \n",
       "..                 ...                ...                ...   \n",
       "195          -0.036712          -0.008947           0.008479   \n",
       "196          -0.029231           0.010044           0.022013   \n",
       "197           0.024539          -0.016046          -0.031211   \n",
       "198           0.030397          -0.013191          -0.023056   \n",
       "199          -0.018644           0.006274          -0.004224   \n",
       "\n",
       "     CAMEO_DEU_2015_9E  CAMEO_DEU_2015_XX  OST_WEST_KZ_O  OST_WEST_KZ_W  \n",
       "0             0.027313          -0.002449       0.084582      -0.084582  \n",
       "1             0.051642           0.000713      -0.039696       0.039696  \n",
       "2             0.001158           0.000305       0.131716      -0.131716  \n",
       "3            -0.023688           0.000369      -0.053171       0.053171  \n",
       "4             0.018010          -0.001105       0.103053      -0.103053  \n",
       "..                 ...                ...            ...            ...  \n",
       "195           0.006492           0.000388       0.022817      -0.022817  \n",
       "196          -0.020529           0.000050       0.028823      -0.028823  \n",
       "197          -0.020324          -0.000816      -0.007430       0.007430  \n",
       "198          -0.016447          -0.000146      -0.014995       0.014995  \n",
       "199          -0.034980          -0.001028      -0.040901       0.040901  \n",
       "\n",
       "[200 rows x 282 columns]"
      ]
     },
     "execution_count": 68,
     "metadata": {},
     "output_type": "execute_result"
    }
   ],
   "source": [
    "weights_azdias = pd.DataFrame(azdias_pca_.components_, columns = azdias_clean.columns.values)\n",
    "final_result = pd.concat([explained_variance_ratio, weights_azdias], axis = 1)\n",
    "final_result"
   ]
  },
  {
   "cell_type": "code",
   "execution_count": 76,
   "metadata": {},
   "outputs": [
    {
     "name": "stdout",
     "output_type": "stream",
     "text": [
      "Principal Component Number:  1 \n",
      "\n",
      "Top Positive weights:\n",
      "HH_EINKOMMEN_SCORE    0.176726\n",
      "CAMEO_DEUG_2015       0.172319\n",
      "FINANZ_HAUSBAUER      0.137887\n",
      "ARBEIT                0.128880\n",
      "EWDICHTE              0.114878\n",
      "Name: 0, dtype: float64 \n",
      "\n",
      "Top Negative weights:\n",
      "KBA05_ANTG1       -0.168676\n",
      "KBA13_ANTG1       -0.164451\n",
      "MOBI_RASTER       -0.159418\n",
      "KBA05_GBZ         -0.157813\n",
      "KBA13_AUTOQUOTE   -0.144121\n",
      "Name: 0, dtype: float64 \n",
      "\n",
      "Principal Component Number:  2 \n",
      "\n",
      "Top Positive weights:\n",
      "KBA05_KRSOBER    0.224249\n",
      "KBA05_ANHANG     0.206021\n",
      "KBA05_MOTRAD     0.204938\n",
      "KBA05_DIESEL     0.200453\n",
      "KBA05_MAXSEG     0.198724\n",
      "Name: 1, dtype: float64 \n",
      "\n",
      "Top Negative weights:\n",
      "KBA05_ANTG1       -0.168676\n",
      "KBA13_ANTG1       -0.164451\n",
      "MOBI_RASTER       -0.159418\n",
      "KBA05_GBZ         -0.157813\n",
      "KBA13_AUTOQUOTE   -0.144121\n",
      "Name: 0, dtype: float64 \n",
      "\n",
      "Principal Component Number:  3 \n",
      "\n",
      "Top Positive weights:\n",
      "KBA13_KMH_140_210       0.158657\n",
      "KBA13_HALTER_20         0.139864\n",
      "KBA13_KMH_180           0.134699\n",
      "KBA13_ALTERHALTER_60    0.132619\n",
      "OST_WEST_KZ_O           0.131716\n",
      "Name: 2, dtype: float64 \n",
      "\n",
      "Top Negative weights:\n",
      "KBA05_ANTG1       -0.168676\n",
      "KBA13_ANTG1       -0.164451\n",
      "MOBI_RASTER       -0.159418\n",
      "KBA05_GBZ         -0.157813\n",
      "KBA13_AUTOQUOTE   -0.144121\n",
      "Name: 0, dtype: float64 \n",
      "\n"
     ]
    }
   ],
   "source": [
    "#get the top positice and negative weights for first 3 components\n",
    "for componentnr in range(1,4):\n",
    "    weight_num=5\n",
    "    print(\"Principal Component Number: \", (componentnr),'\\n')    \n",
    "    print(\"Top Positive weights:\")\n",
    "    print(final_result.iloc[(componentnr)-1].sort_values(ascending=False)[:weight_num],'\\n')\n",
    "    print(\"Top Negative weights:\")\n",
    "    print(final_result.iloc[(pc)-1].sort_values()[:weight_num], '\\n')"
   ]
  },
  {
   "cell_type": "code",
   "execution_count": 78,
   "metadata": {},
   "outputs": [
    {
     "name": "stdout",
     "output_type": "stream",
     "text": [
      "[ 1.60199935 -0.57034276 -0.83148514]\n",
      "[-2.02673462  1.51693277 -5.87511448]\n"
     ]
    }
   ],
   "source": [
    "#values for the first 3 principles for cluster 8 and 1\n",
    "print(kmeans_model.cluster_centers_[8,:3])\n",
    "print(kmeans_model.cluster_centers_[1,:3])"
   ]
  },
  {
   "cell_type": "markdown",
   "metadata": {},
   "source": [
    "## Part 2: Supervised Learning Model\n",
    "\n",
    "Now that you've found which parts of the population are more likely to be customers of the mail-order company, it's time to build a prediction model. Each of the rows in the \"MAILOUT\" data files represents an individual that was targeted for a mailout campaign. Ideally, we should be able to use the demographic information from each individual to decide whether or not it will be worth it to include that person in the campaign.\n",
    "\n",
    "The \"MAILOUT\" data has been split into two approximately equal parts, each with almost 43 000 data rows. In this part, you can verify your model with the \"TRAIN\" partition, which includes a column, \"RESPONSE\", that states whether or not a person became a customer of the company following the campaign. In the next part, you'll need to create predictions on the \"TEST\" partition, where the \"RESPONSE\" column has been withheld."
   ]
  },
  {
   "cell_type": "code",
   "execution_count": 62,
   "metadata": {},
   "outputs": [],
   "source": [
    "#mailout_train = pd.read_csv('../data_arvato_bertelsmann/Udacity_MAILOUT_052018_TRAIN.csv', sep=';')\n",
    "mailout_train = pd.read_pickle(\"../data_arvato_bertelsmann/mailout_train.pkl\")\n"
   ]
  },
  {
   "cell_type": "code",
   "execution_count": 63,
   "metadata": {},
   "outputs": [
    {
     "data": {
      "text/plain": [
       "(42962,)"
      ]
     },
     "execution_count": 63,
     "metadata": {},
     "output_type": "execute_result"
    }
   ],
   "source": [
    "X_train = mailout_train.drop('RESPONSE', axis=1)\n",
    "y_train = mailout_train['RESPONSE']\n",
    "y_train.shape"
   ]
  },
  {
   "cell_type": "code",
   "execution_count": 64,
   "metadata": {},
   "outputs": [
    {
     "data": {
      "text/plain": [
       "(42962, 366)"
      ]
     },
     "execution_count": 64,
     "metadata": {},
     "output_type": "execute_result"
    }
   ],
   "source": [
    "X_train.shape"
   ]
  },
  {
   "cell_type": "code",
   "execution_count": 65,
   "metadata": {},
   "outputs": [
    {
     "name": "stdout",
     "output_type": "stream",
     "text": [
      "df columns 18 and 19 converted to float\n",
      "shape is:  (42962, 364)\n",
      "df columns with more than 40 percent missing values dropped\n",
      "dropped columns are:  Index(['ALTER_KIND1', 'ALTER_KIND2', 'ALTER_KIND3', 'ALTER_KIND4',\n",
      "       'KK_KUNDENTYP'],\n",
      "      dtype='object')\n",
      "shape is:  (42962, 359)\n",
      "df rows with 25 missing values dropped\n",
      "shape is:  (42962, 359)\n",
      "columns with correlation more than 0.7 are dropped\n",
      "this columns from customer df are dropped:  ['CUSTOMER_GROUP', 'ONLINE_PURCHASE', 'PRODUCT_GROUP']\n",
      "shape is:  (42962, 253)\n",
      "this columns from customer df are dropped:  ['CUSTOMER_GROUP', 'ONLINE_PURCHASE', 'PRODUCT_GROUP']\n",
      "shape is:  (42962, 253)\n",
      "this columns from customer df are dropped:  ['CUSTOMER_GROUP', 'ONLINE_PURCHASE', 'PRODUCT_GROUP']\n",
      "shape is:  (42962, 253)\n",
      "Imputing nan values with mode\n",
      "shape after imputing the values (42962, 300)\n",
      "Shape after normalising (42962, 300)\n"
     ]
    }
   ],
   "source": [
    "df_train  = clean_data(X_train, False)"
   ]
  },
  {
   "cell_type": "code",
   "execution_count": 66,
   "metadata": {},
   "outputs": [],
   "source": [
    "#split into test and train data\n",
    "X_train, X_test, y_train, y_test = train_test_split(df_train, y_train, test_size=0.3, random_state=42)"
   ]
  },
  {
   "cell_type": "code",
   "execution_count": 67,
   "metadata": {},
   "outputs": [],
   "source": [
    "# Create pipeline for classifier\n",
    "pipeline = Pipeline([('classifier', RandomForestClassifier())])\n",
    "\n",
    "paramter = [{'classifier': [RandomForestClassifier()],\n",
    "                 'classifier__n_estimators': [10, 50, 100],\n",
    "                 'classifier__max_features': [1, 2, 3]},\n",
    "            {'classifier': [GradientBoostingRegressor(random_state=42)],\n",
    "                 'classifier__n_estimators': [50, 100, 200],\n",
    "                 'classifier__min_samples_split': [2, 3, 4]}]\n",
    "\n",
    "#paramter = [{'classifier': [LogisticRegression(random_state=42))],\n",
    "#                 'classifier__penalty': ['l2'],\n",
    "#                 'classifier__C': np.logspace(0, 5)}, \n"
   ]
  },
  {
   "cell_type": "code",
   "execution_count": 68,
   "metadata": {},
   "outputs": [
    {
     "name": "stdout",
     "output_type": "stream",
     "text": [
      "ROC score on test data: 0.7609329939231682\n"
     ]
    }
   ],
   "source": [
    "#grid search\n",
    "cv_obj = GridSearchCV(estimator=pipeline, param_grid=paramter, scoring = 'roc_auc')\n",
    "\n",
    "#modelfit\n",
    "cv_fit = cv_obj.fit(X_train, y_train)\n",
    "\n",
    "# get the best classifier\n",
    "choosen_classfier = cv_fit.best_estimator_\n",
    "clf_predictions = choosen_classfier.predict(X_test)\n",
    "\n",
    "print(\"ROC score on test data:\", roc_auc_score(y_test, clf_predictions))\n"
   ]
  },
  {
   "cell_type": "code",
   "execution_count": 74,
   "metadata": {},
   "outputs": [
    {
     "data": {
      "text/plain": [
       "Pipeline(steps=[('classifier',\n",
       "                 GradientBoostingRegressor(min_samples_split=4, n_estimators=50,\n",
       "                                           random_state=42))])"
      ]
     },
     "execution_count": 74,
     "metadata": {},
     "output_type": "execute_result"
    }
   ],
   "source": [
    "choosen_classfier"
   ]
  },
  {
   "cell_type": "markdown",
   "metadata": {},
   "source": [
    "## Part 3: Kaggle Competition\n",
    "\n",
    "Now that you've created a model to predict which individuals are most likely to respond to a mailout campaign, it's time to test that model in competition through Kaggle. If you click on the link [here](http://www.kaggle.com/t/21e6d45d4c574c7fa2d868f0e8c83140), you'll be taken to the competition page where, if you have a Kaggle account, you can enter. If you're one of the top performers, you may have the chance to be contacted by a hiring manager from Arvato or Bertelsmann for an interview!\n",
    "\n",
    "Your entry to the competition should be a CSV file with two columns. The first column should be a copy of \"LNR\", which acts as an ID number for each individual in the \"TEST\" partition. The second column, \"RESPONSE\", should be some measure of how likely each individual became a customer – this might not be a straightforward probability. As you should have found in Part 2, there is a large output class imbalance, where most individuals did not respond to the mailout. Thus, predicting individual classes and using accuracy does not seem to be an appropriate performance evaluation method. Instead, the competition will be using AUC to evaluate performance. The exact values of the \"RESPONSE\" column do not matter as much: only that the higher values try to capture as many of the actual customers as possible, early in the ROC curve sweep."
   ]
  },
  {
   "cell_type": "code",
   "execution_count": 69,
   "metadata": {},
   "outputs": [],
   "source": [
    "#mailout_test = pd.read_csv('../../data/Term2/capstone/arvato_data/Udacity_MAILOUT_052018_TEST.csv', sep=';')\n",
    "mailout_test = pd.read_pickle(\"../data_arvato_bertelsmann/mailout_test.pkl\")"
   ]
  },
  {
   "cell_type": "code",
   "execution_count": 70,
   "metadata": {},
   "outputs": [
    {
     "name": "stdout",
     "output_type": "stream",
     "text": [
      "df columns 18 and 19 converted to float\n",
      "shape is:  (42833, 364)\n",
      "df columns with more than 40 percent missing values dropped\n",
      "dropped columns are:  Index(['ALTER_KIND1', 'ALTER_KIND2', 'ALTER_KIND3', 'ALTER_KIND4',\n",
      "       'KK_KUNDENTYP'],\n",
      "      dtype='object')\n",
      "shape is:  (42833, 359)\n",
      "df rows with 25 missing values dropped\n",
      "shape is:  (42833, 359)\n",
      "columns with correlation more than 0.7 are dropped\n",
      "this columns from customer df are dropped:  ['CUSTOMER_GROUP', 'ONLINE_PURCHASE', 'PRODUCT_GROUP']\n",
      "shape is:  (42833, 253)\n",
      "this columns from customer df are dropped:  ['CUSTOMER_GROUP', 'ONLINE_PURCHASE', 'PRODUCT_GROUP']\n",
      "shape is:  (42833, 253)\n",
      "this columns from customer df are dropped:  ['CUSTOMER_GROUP', 'ONLINE_PURCHASE', 'PRODUCT_GROUP']\n",
      "shape is:  (42833, 253)\n",
      "Imputing nan values with mode\n",
      "shape after imputing the values (42833, 300)\n",
      "Shape after normalising (42833, 300)\n"
     ]
    }
   ],
   "source": [
    "#clean test data\n",
    "mailout_test_clean = clean_data(mailout_test, False)"
   ]
  },
  {
   "cell_type": "code",
   "execution_count": 72,
   "metadata": {},
   "outputs": [],
   "source": [
    "# prediction with choosen classifier\n",
    "prediction = choosen_classfier.predict(mailout_test_clean)\n",
    "submission = pd.DataFrame(index=mailout_test['LNR'].astype('int32'), data=prediction)"
   ]
  },
  {
   "cell_type": "code",
   "execution_count": 76,
   "metadata": {},
   "outputs": [],
   "source": [
    "submission.rename(columns={0: \"RESPONSE\"}, inplace=True)\n",
    "submission.to_csv('Submission_kaggle.csv', index=True)"
   ]
  },
  {
   "cell_type": "code",
   "execution_count": 75,
   "metadata": {},
   "outputs": [
    {
     "data": {
      "text/html": [
       "<div>\n",
       "<style scoped>\n",
       "    .dataframe tbody tr th:only-of-type {\n",
       "        vertical-align: middle;\n",
       "    }\n",
       "\n",
       "    .dataframe tbody tr th {\n",
       "        vertical-align: top;\n",
       "    }\n",
       "\n",
       "    .dataframe thead th {\n",
       "        text-align: right;\n",
       "    }\n",
       "</style>\n",
       "<table border=\"1\" class=\"dataframe\">\n",
       "  <thead>\n",
       "    <tr style=\"text-align: right;\">\n",
       "      <th></th>\n",
       "      <th>RESPONSE</th>\n",
       "    </tr>\n",
       "    <tr>\n",
       "      <th>LNR</th>\n",
       "      <th></th>\n",
       "    </tr>\n",
       "  </thead>\n",
       "  <tbody>\n",
       "    <tr>\n",
       "      <th>1754</th>\n",
       "      <td>0.028627</td>\n",
       "    </tr>\n",
       "    <tr>\n",
       "      <th>1770</th>\n",
       "      <td>0.019985</td>\n",
       "    </tr>\n",
       "    <tr>\n",
       "      <th>1465</th>\n",
       "      <td>0.004713</td>\n",
       "    </tr>\n",
       "    <tr>\n",
       "      <th>1470</th>\n",
       "      <td>0.005229</td>\n",
       "    </tr>\n",
       "    <tr>\n",
       "      <th>1478</th>\n",
       "      <td>0.000414</td>\n",
       "    </tr>\n",
       "    <tr>\n",
       "      <th>...</th>\n",
       "      <td>...</td>\n",
       "    </tr>\n",
       "    <tr>\n",
       "      <th>67615</th>\n",
       "      <td>0.012312</td>\n",
       "    </tr>\n",
       "    <tr>\n",
       "      <th>67938</th>\n",
       "      <td>0.006186</td>\n",
       "    </tr>\n",
       "    <tr>\n",
       "      <th>67942</th>\n",
       "      <td>0.018789</td>\n",
       "    </tr>\n",
       "    <tr>\n",
       "      <th>67949</th>\n",
       "      <td>0.023363</td>\n",
       "    </tr>\n",
       "    <tr>\n",
       "      <th>68898</th>\n",
       "      <td>0.014991</td>\n",
       "    </tr>\n",
       "  </tbody>\n",
       "</table>\n",
       "<p>42833 rows × 1 columns</p>\n",
       "</div>"
      ],
      "text/plain": [
       "       RESPONSE\n",
       "LNR            \n",
       "1754   0.028627\n",
       "1770   0.019985\n",
       "1465   0.004713\n",
       "1470   0.005229\n",
       "1478   0.000414\n",
       "...         ...\n",
       "67615  0.012312\n",
       "67938  0.006186\n",
       "67942  0.018789\n",
       "67949  0.023363\n",
       "68898  0.014991\n",
       "\n",
       "[42833 rows x 1 columns]"
      ]
     },
     "execution_count": 75,
     "metadata": {},
     "output_type": "execute_result"
    }
   ],
   "source": [
    "submission"
   ]
  },
  {
   "cell_type": "code",
   "execution_count": null,
   "metadata": {},
   "outputs": [],
   "source": []
  }
 ],
 "metadata": {
  "kernelspec": {
   "display_name": "Python 3",
   "language": "python",
   "name": "python3"
  },
  "language_info": {
   "codemirror_mode": {
    "name": "ipython",
    "version": 3
   },
   "file_extension": ".py",
   "mimetype": "text/x-python",
   "name": "python",
   "nbconvert_exporter": "python",
   "pygments_lexer": "ipython3",
   "version": "3.8.5"
  }
 },
 "nbformat": 4,
 "nbformat_minor": 2
}
